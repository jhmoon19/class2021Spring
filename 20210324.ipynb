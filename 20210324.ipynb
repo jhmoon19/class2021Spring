{
  "nbformat": 4,
  "nbformat_minor": 0,
  "metadata": {
    "colab": {
      "name": "20210324.ipynb",
      "provenance": [],
      "authorship_tag": "ABX9TyN2sJ+iWlnfYxOCpV6DI0jp",
      "include_colab_link": true
    },
    "kernelspec": {
      "name": "python3",
      "display_name": "Python 3"
    },
    "language_info": {
      "name": "python"
    }
  },
  "cells": [
    {
      "cell_type": "markdown",
      "metadata": {
        "id": "view-in-github",
        "colab_type": "text"
      },
      "source": [
        "<a href=\"https://colab.research.google.com/github/jhmoon19/class2021Spring/blob/main/20210324.ipynb\" target=\"_parent\"><img src=\"https://colab.research.google.com/assets/colab-badge.svg\" alt=\"Open In Colab\"/></a>"
      ]
    },
    {
      "cell_type": "markdown",
      "metadata": {
        "id": "iXTMKO5snRP4"
      },
      "source": [
        "# NumPy basics"
      ]
    },
    {
      "cell_type": "markdown",
      "metadata": {
        "id": "nt6D6HHDnW4a"
      },
      "source": [
        "모듈 -> 클래스/ 펑션\n",
        "\n",
        "넘피라는 패키지를 불러와서, 얘를 np라고 부르자.\n",
        "\n",
        "넘피안의 empty함수를 np.empty라고 하자. \"import numpy as np\"\n",
        "\n",
        "matplotlib이라는 큰 패키지 속에, pylot.py라는 모듈이 있는데, 이걸 plt라고 적자. \"import matplotlib.pylot as plt\""
      ]
    },
    {
      "cell_type": "code",
      "metadata": {
        "id": "7hvRdeQOm2p_"
      },
      "source": [
        "import numpy as np\n",
        "import matplotlib.pyplot as plt\n",
        "# 두 개의 큰 패키지를 불러온 것임, 이름 저장"
      ],
      "execution_count": 2,
      "outputs": []
    },
    {
      "cell_type": "code",
      "metadata": {
        "colab": {
          "base_uri": "https://localhost:8080/"
        },
        "id": "f_qft2cuoVtb",
        "outputId": "76c1d28b-088d-41a7-db22-9405698b0eb5"
      },
      "source": [
        "np.empty([2,3], dtype= 'int') # 첫번째 숫자는 랜덤하게 들어가는 것!\n",
        "# empty는 잘 안씀!\n",
        "# 반드시 0이 필요는 없다. "
      ],
      "execution_count": 4,
      "outputs": [
        {
          "output_type": "execute_result",
          "data": {
            "text/plain": [
              "array([[94563941818560,              0,              0],\n",
              "       [             0,              0,              0]])"
            ]
          },
          "metadata": {
            "tags": []
          },
          "execution_count": 4
        }
      ]
    },
    {
      "cell_type": "code",
      "metadata": {
        "colab": {
          "base_uri": "https://localhost:8080/"
        },
        "id": "8RwZO7SjoloD",
        "outputId": "4d1661a6-28bd-4b92-875f-ea1c080c0d88"
      },
      "source": [
        "np.zeros([2,3])   #행렬적인 표현방식이 가장 기본 \n",
        "# 디폴트로 데이터타입이 실수 \n",
        "# 투 바이 쓰리의 매치스가 만들어짐 \n",
        "# 만약 np.zeros([2,3], dtype='int')하면 0, 0, 0, 요렇게 나옴."
      ],
      "execution_count": 5,
      "outputs": [
        {
          "output_type": "execute_result",
          "data": {
            "text/plain": [
              "array([[0., 0., 0.],\n",
              "       [0., 0., 0.]])"
            ]
          },
          "metadata": {
            "tags": []
          },
          "execution_count": 5
        }
      ]
    },
    {
      "cell_type": "code",
      "metadata": {
        "colab": {
          "base_uri": "https://localhost:8080/"
        },
        "id": "Ow1x0Y0ro_zp",
        "outputId": "edda2d66-4ab5-45de-b94a-ee157c1dc9f0"
      },
      "source": [
        "np.arange(0,10,2, dtype= 'float64')\n",
        "# a부터 b까지 c간격으로 "
      ],
      "execution_count": 7,
      "outputs": [
        {
          "output_type": "execute_result",
          "data": {
            "text/plain": [
              "array([0., 2., 4., 6., 8.])"
            ]
          },
          "metadata": {
            "tags": []
          },
          "execution_count": 7
        }
      ]
    },
    {
      "cell_type": "code",
      "metadata": {
        "colab": {
          "base_uri": "https://localhost:8080/"
        },
        "id": "0FkssbIZphQv",
        "outputId": "71f73fe8-d4eb-4119-8077-ed4f3585e9b7"
      },
      "source": [
        "np.linspace(0,10,6, dtype=float)\n",
        "# 이거 굉장히 중요!! \n",
        "# linear space: 등간격 \n",
        "# (a,b,c): a부터 b까지 c개만큼 등간격으로 \n",
        "# 숫자열들을 만들어내는것."
      ],
      "execution_count": 8,
      "outputs": [
        {
          "output_type": "execute_result",
          "data": {
            "text/plain": [
              "array([ 0.,  2.,  4.,  6.,  8., 10.])"
            ]
          },
          "metadata": {
            "tags": []
          },
          "execution_count": 8
        }
      ]
    },
    {
      "cell_type": "markdown",
      "metadata": {
        "id": "O01MQoEoq3JD"
      },
      "source": [
        "숫자열들은 벡터라고 할 수 있음! (벡터: 1행이나 1열을 가지는 행렬)\n",
        "\n",
        "2*3 -> [1, 3, 5; 2, 4, 6] -> 투바이쓰리 행렬 \n",
        "\n",
        "* 벡터는 행렬이 아니다.(X)\n",
        "\n",
        "벡터는 행렬이 맞는데, 세로든 가로든 길쭉한 형태 \n",
        "\n",
        "ex. row vector(가로), column vector(세로) "
      ]
    },
    {
      "cell_type": "code",
      "metadata": {
        "colab": {
          "base_uri": "https://localhost:8080/"
        },
        "id": "Cb8d0FHspyWv",
        "outputId": "c549fcb4-3bee-4bcb-ed3c-9e897035fa9a"
      },
      "source": [
        "x = np.array([[1,2,3],[4,5,6]])  # 이렇게 리스트 안에 리스트로 2 by 3 행렬 만듦.\n",
        "x\n",
        "# array는 행렬과 비슷 "
      ],
      "execution_count": 11,
      "outputs": [
        {
          "output_type": "execute_result",
          "data": {
            "text/plain": [
              "array([[1, 2, 3],\n",
              "       [4, 5, 6]])"
            ]
          },
          "metadata": {
            "tags": []
          },
          "execution_count": 11
        }
      ]
    },
    {
      "cell_type": "code",
      "metadata": {
        "colab": {
          "base_uri": "https://localhost:8080/"
        },
        "id": "XohtVPferele",
        "outputId": "0b277947-51b9-4e5f-8f11-a4a4e1d8dc5c"
      },
      "source": [
        "x.astype(np.float64)\n",
        "# x가 사실은 클래스 -> 클래스내부에 만들어진 펑션 "
      ],
      "execution_count": 12,
      "outputs": [
        {
          "output_type": "execute_result",
          "data": {
            "text/plain": [
              "array([[1., 2., 3.],\n",
              "       [4., 5., 6.]])"
            ]
          },
          "metadata": {
            "tags": []
          },
          "execution_count": 12
        }
      ]
    },
    {
      "cell_type": "code",
      "metadata": {
        "colab": {
          "base_uri": "https://localhost:8080/"
        },
        "id": "b_JZfDKPsUOc",
        "outputId": "df9ddf80-bc29-4118-f706-2289b84039ff"
      },
      "source": [
        "np.zeros_like(x)\n",
        "# 모두 0으로 대체를 해라."
      ],
      "execution_count": 14,
      "outputs": [
        {
          "output_type": "execute_result",
          "data": {
            "text/plain": [
              "array([[0, 0, 0],\n",
              "       [0, 0, 0]])"
            ]
          },
          "metadata": {
            "tags": []
          },
          "execution_count": 14
        }
      ]
    },
    {
      "cell_type": "code",
      "metadata": {
        "colab": {
          "base_uri": "https://localhost:8080/",
          "height": 583
        },
        "id": "Q84Zn3IYsYuo",
        "outputId": "fbb1dcbf-4c46-4d50-b17f-78760cb73d7b"
      },
      "source": [
        "data = np.random.normal(0,1,100)\n",
        "print(data)\n",
        "plt.hist(data, bins=10)   \n",
        "plt.show()\n",
        "# 얘네 지금 꺽쇠가 하나니까 2차원 행렬의 형태가 아니라, \n",
        "# 1차원 벡터의 형태임.\n",
        "# 히스토그램은 mayplotlib안에 저장되어있는 것. 파이썬이 아니고 "
      ],
      "execution_count": 15,
      "outputs": [
        {
          "output_type": "stream",
          "text": [
            "[ 1.986292   -1.33555162 -0.67045389 -1.56259851  0.50788302  0.06518019\n",
            " -1.10310984  1.20359656 -0.71671827  1.04465192 -2.23004027  0.09200504\n",
            "  0.12018808 -1.26084286  0.78514672  1.65654807 -0.32317997 -0.39547455\n",
            " -0.01418192  0.52203974  2.39371195 -1.22863028  0.39905813 -0.48087838\n",
            "  0.50604398  0.42141688 -0.51394703 -0.44824888  0.54314854  0.09412197\n",
            " -0.60744486 -0.42606817  0.92913985 -0.49267722 -0.09691845  0.18323944\n",
            " -0.49534245  0.16319583 -0.47226497  0.69199893 -0.21609685  1.2938208\n",
            "  1.72403509 -0.22462558 -1.46824453 -1.3257598  -0.63906245  0.33092936\n",
            "  0.96714374  0.11431722 -0.55521729  0.63488556  0.11444207  0.79905645\n",
            "  1.26485788  1.90914576 -1.40731038  0.54391242 -0.05564673 -1.76367187\n",
            " -1.02115983 -1.32923043 -0.04535106 -0.97820107  0.34396026  1.49070358\n",
            " -1.50065364  0.27283561  0.51935208  0.55578991  0.95655399  0.62070058\n",
            "  0.52522214  0.81812271  2.28199928 -0.82754816  1.51634683  1.50481613\n",
            " -0.29162488 -0.74937054  1.14327226 -2.01351066  0.87189156  1.467116\n",
            " -0.27172769 -3.29360867  0.43155445  0.31901937  2.7916885   0.42754277\n",
            "  1.00051614  0.66201257  1.09964836 -0.61061304  0.92283346  0.85195565\n",
            "  0.60800645  0.52440072 -0.57127512 -0.46889116]\n"
          ],
          "name": "stdout"
        },
        {
          "output_type": "display_data",
          "data": {
            "image/png": "[encoded data removed]",
            "text/plain": [
              "<Figure size 432x288 with 1 Axes>"
            ]
          },
          "metadata": {
            "tags": [],
            "needs_background": "light"
          }
        }
      ]
    },
    {
      "cell_type": "code",
      "metadata": {
        "colab": {
          "base_uri": "https://localhost:8080/"
        },
        "id": "c8PVDUZyspfB",
        "outputId": "2f5964dd-a158-4692-c46e-6b1a0de6141e"
      },
      "source": [
        "np.random.normal(0,1,100)"
      ],
      "execution_count": 16,
      "outputs": [
        {
          "output_type": "execute_result",
          "data": {
            "text/plain": [
              "array([-2.86457726e-01,  1.49479518e+00, -5.19060553e-01,  3.61155306e-01,\n",
              "       -5.52136370e-01, -6.72522518e-01,  2.45752655e-01, -3.13488816e+00,\n",
              "       -7.30612037e-01,  4.60983982e-01, -8.97918494e-01, -1.04222050e+00,\n",
              "       -1.44833284e+00,  5.44548982e-02,  1.79300450e+00,  2.19763544e-01,\n",
              "        1.69547216e+00,  3.78337518e-01,  1.40635531e+00, -1.57266356e+00,\n",
              "       -9.24583568e-01, -2.82040789e-01,  3.11663462e-01, -7.64323929e-01,\n",
              "       -9.51607766e-01, -2.03253409e+00, -3.10475360e-01,  1.52767381e-01,\n",
              "       -4.47677436e-01, -7.27784244e-01, -4.31786908e-01, -1.82676882e-01,\n",
              "        3.23438223e-02,  8.37721426e-01,  1.17044809e+00, -7.72741651e-01,\n",
              "       -1.62108460e-01,  2.38505620e-01, -1.17109479e-01, -3.81332845e-01,\n",
              "        5.41502866e-01, -2.20912998e-03,  3.64289711e-01,  1.00635482e+00,\n",
              "       -5.38183583e-01, -1.24907776e+00, -7.20364946e-01, -3.66192326e-01,\n",
              "       -1.08627388e-01,  5.46016121e-01, -1.30438346e-01,  3.66804104e-01,\n",
              "       -1.47334282e+00,  4.01697602e-01,  1.76472152e+00, -6.75119927e-01,\n",
              "       -4.87588937e-01, -8.98752582e-01, -2.59409404e+00,  1.03822103e+00,\n",
              "        1.57807567e-01,  7.78602367e-01,  1.96221919e-01,  7.69069088e-01,\n",
              "        9.70904689e-01,  4.74837899e-01,  4.13354178e-01, -6.60103830e-03,\n",
              "        7.67321960e-01, -6.62517125e-01,  1.74002975e+00,  2.10136750e-02,\n",
              "       -1.16129653e+00, -4.46782697e-01, -5.98660703e-01, -2.32213495e-01,\n",
              "       -1.53268940e+00, -4.60511670e-02,  8.13007652e-01,  1.64370409e+00,\n",
              "        8.94081731e-01,  1.19573472e+00,  1.75917395e+00, -9.57866511e-02,\n",
              "       -1.20501772e+00,  1.06518698e+00, -5.95065417e-01,  1.39459775e+00,\n",
              "       -3.53849116e-01,  9.46732969e-01, -1.17459035e+00,  1.59698427e-01,\n",
              "        1.16695488e+00,  5.58570861e-01,  1.88642154e+00,  4.30035878e-01,\n",
              "        6.15683819e-01,  9.56866752e-01, -1.37485850e+00, -4.62366832e-02])"
            ]
          },
          "metadata": {
            "tags": []
          },
          "execution_count": 16
        }
      ]
    },
    {
      "cell_type": "markdown",
      "metadata": {
        "id": "CIkJ6JoStIxt"
      },
      "source": [
        "폭을 스탠다드 디비에이션 100\n",
        "\n",
        "100개를 랜덤하게 만들어내라. "
      ]
    },
    {
      "cell_type": "code",
      "metadata": {
        "colab": {
          "base_uri": "https://localhost:8080/",
          "height": 265
        },
        "id": "DPXhlQuQtFco",
        "outputId": "5bd84d9b-13b7-41a7-faff-6a657e1f361c"
      },
      "source": [
        "data = np.random.normal(0,1,100)\n",
        "plt.hist(data, bins=10)\n",
        "plt.show()\n",
        "# 그래프는 계속 바뀜 \n",
        "# bin 개수를 적정히 조절해야함."
      ],
      "execution_count": 27,
      "outputs": [
        {
          "output_type": "display_data",
          "data": {
            "image/png": "[encoded data removed]",
            "text/plain": [
              "<Figure size 432x288 with 1 Axes>"
            ]
          },
          "metadata": {
            "tags": [],
            "needs_background": "light"
          }
        }
      ]
    },
    {
      "cell_type": "code",
      "metadata": {
        "colab": {
          "base_uri": "https://localhost:8080/",
          "height": 265
        },
        "id": "bdrU3a0Ft3FY",
        "outputId": "4250d71a-69a1-41a9-96cf-0a146dcade4a"
      },
      "source": [
        "data = np.random.normal(0,1,10000)\n",
        "plt.hist(data, bins=30) # 값이 커질수록 정규분포에 가까워짐.\n",
        "plt.show()\n",
        "# 그래프는 계속 바뀜 \n",
        "# bin 개수를 적정히 조절해야함."
      ],
      "execution_count": 28,
      "outputs": [
        {
          "output_type": "display_data",
          "data": {
            "image/png": "[encoded data removed]",
            "text/plain": [
              "<Figure size 432x288 with 1 Axes>"
            ]
          },
          "metadata": {
            "tags": [],
            "needs_background": "light"
          }
        }
      ]
    },
    {
      "cell_type": "code",
      "metadata": {
        "colab": {
          "base_uri": "https://localhost:8080/",
          "height": 265
        },
        "id": "VNqjkluiuTTJ",
        "outputId": "182d739d-96e1-4ebb-a1c5-24e3afb05d69"
      },
      "source": [
        "data = np.random.normal(0,1,1000000) # 값이 커질수록 정규분포\n",
        "# (a,b,c): a는 가운데값(평균값)\n",
        "# a값과 유사하게 만들어라, 반드시 그값이 되는게 아님. \n",
        "plt.hist(data, bins=100)\n",
        "plt.show()\n",
        "# 그래프는 계속 바뀜 \n",
        "# bin 개수를 적정히 조절해야함."
      ],
      "execution_count": 29,
      "outputs": [
        {
          "output_type": "display_data",
          "data": {
            "image/png": "[encoded data removed]",
            "text/plain": [
              "<Figure size 432x288 with 1 Axes>"
            ]
          },
          "metadata": {
            "tags": [],
            "needs_background": "light"
          }
        }
      ]
    },
    {
      "cell_type": "markdown",
      "metadata": {
        "id": "EWvj63TEubGa"
      },
      "source": [
        "개발자는 지금 모잘라서 못뽑는 상황이고, 사무직은 이제 더이상 안뽑고 있는 사람도 쫓아낸다. 기술을 배워서 취직하는게 필수적. 기술은 바로 코딩 \n",
        "\n",
        "numpy는 숫자 다루기 위한 필수적 패키지. \n",
        "\n",
        "matplotlib는 그래프화하는데 다양한 펑션을 제공 "
      ]
    },
    {
      "cell_type": "code",
      "metadata": {
        "colab": {
          "base_uri": "https://localhost:8080/",
          "height": 265
        },
        "id": "ddCapIkSu_j6",
        "outputId": "1a4b2a35-2f05-432b-b649-43f3ddcd9fa1"
      },
      "source": [
        "data = np.random.normal(0,1,3)\n",
        "# 0에 가까워질 뿐이다. \n",
        "plt.hist(data, bins=100)\n",
        "plt.show()\n",
        "# 그래프는 계속 바뀜 \n",
        "# bin 개수를 적정히 조절해야함."
      ],
      "execution_count": 30,
      "outputs": [
        {
          "output_type": "display_data",
          "data": {
            "image/png": "[encoded data removed]",
            "text/plain": [
              "<Figure size 432x288 with 1 Axes>"
            ]
          },
          "metadata": {
            "tags": [],
            "needs_background": "light"
          }
        }
      ]
    },
    {
      "cell_type": "code",
      "metadata": {
        "colab": {
          "base_uri": "https://localhost:8080/",
          "height": 265
        },
        "id": "XeCcPJZWvKZT",
        "outputId": "aad673f3-59d1-4200-fc9a-1af95d965d9f"
      },
      "source": [
        "data = np.random.normal(0,10,1000000)\n",
        "# b값에 따라 그래프가 뚱뚱해짐.\n",
        "plt.hist(data, bins=100)\n",
        "plt.show()\n",
        "# 그래프는 계속 바뀜 \n",
        "# bin 개수를 적정히 조절해야함."
      ],
      "execution_count": 31,
      "outputs": [
        {
          "output_type": "display_data",
          "data": {
            "image/png": "[encoded data removed]",
            "text/plain": [
              "<Figure size 432x288 with 1 Axes>"
            ]
          },
          "metadata": {
            "tags": [],
            "needs_background": "light"
          }
        }
      ]
    },
    {
      "cell_type": "markdown",
      "metadata": {
        "id": "qSEiqHyOvSK6"
      },
      "source": [
        "# Manipulation"
      ]
    },
    {
      "cell_type": "code",
      "metadata": {
        "colab": {
          "base_uri": "https://localhost:8080/"
        },
        "id": "lK9m7_55vT7Y",
        "outputId": "8d00177a-cdea-41fe-dd93-549623b6f708"
      },
      "source": [
        "x = np.ones([2,3,4])\n",
        "x\n",
        "# 2차원 이상으로 올라갈때 tensor라고 부름.\n",
        "# n*m은 matrix\n",
        "# 1차원은 vector\n",
        "# 얘는 2*3*4니까 tensor"
      ],
      "execution_count": 32,
      "outputs": [
        {
          "output_type": "execute_result",
          "data": {
            "text/plain": [
              "array([[[1., 1., 1., 1.],\n",
              "        [1., 1., 1., 1.],\n",
              "        [1., 1., 1., 1.]],\n",
              "\n",
              "       [[1., 1., 1., 1.],\n",
              "        [1., 1., 1., 1.],\n",
              "        [1., 1., 1., 1.]]])"
            ]
          },
          "metadata": {
            "tags": []
          },
          "execution_count": 32
        }
      ]
    },
    {
      "cell_type": "markdown",
      "metadata": {
        "id": "ClrGbrZdvugt"
      },
      "source": [
        "브래킷이 세개가 있음. \n",
        "\n",
        "결국엔 다 중첩된 리스트. 리스트로 어떻게 1차원 2차원 3차원을 표현할 수 있는가 \n",
        "\n",
        "2*3*4 안에 1이 몇개일까? --> 24개 \n",
        "\n",
        "이 24개로 4*6*1도 만들수 있고, 2*2*6도 3*2*4도 만들 수 있을것.--> reshape"
      ]
    },
    {
      "cell_type": "code",
      "metadata": {
        "colab": {
          "base_uri": "https://localhost:8080/"
        },
        "id": "T0DCpXlqvZA3",
        "outputId": "9dfb758e-a2d7-475d-edd6-b2bcf95f0019"
      },
      "source": [
        "y= x.reshape(-1,3,2)\n",
        "y\n",
        "# -1이 나온 이유: (a, b, c)에서 a부분 계산 귀찮다고 할 떄, 걍 24되도록 a부분 알아서 채워줌\n",
        "# 여기서는 -1이 4가 될것!! "
      ],
      "execution_count": 33,
      "outputs": [
        {
          "output_type": "execute_result",
          "data": {
            "text/plain": [
              "array([[[1., 1.],\n",
              "        [1., 1.],\n",
              "        [1., 1.]],\n",
              "\n",
              "       [[1., 1.],\n",
              "        [1., 1.],\n",
              "        [1., 1.]],\n",
              "\n",
              "       [[1., 1.],\n",
              "        [1., 1.],\n",
              "        [1., 1.]],\n",
              "\n",
              "       [[1., 1.],\n",
              "        [1., 1.],\n",
              "        [1., 1.]]])"
            ]
          },
          "metadata": {
            "tags": []
          },
          "execution_count": 33
        }
      ]
    },
    {
      "cell_type": "markdown",
      "metadata": {
        "id": "qvEOmxzZxG6U"
      },
      "source": [
        "(6,4)와 (6,4,1)은 서로 다른 것! 전자는 matrix 후자는 tensor. 결과도 다름.\n",
        "\n",
        "2차원과 3차원의 차이 - 대괄호로 판별 "
      ]
    },
    {
      "cell_type": "code",
      "metadata": {
        "colab": {
          "base_uri": "https://localhost:8080/"
        },
        "id": "7XI88EuywkQV",
        "outputId": "8100db2e-ffac-4fec-d33c-7fafb7262bfa"
      },
      "source": [
        "np.allclose(x.reshape(-1,3,2),y)\n",
        "# 중요한거 아니니까 스킵"
      ],
      "execution_count": 34,
      "outputs": [
        {
          "output_type": "execute_result",
          "data": {
            "text/plain": [
              "True"
            ]
          },
          "metadata": {
            "tags": []
          },
          "execution_count": 34
        }
      ]
    },
    {
      "cell_type": "code",
      "metadata": {
        "id": "ejClqi1QxdnP"
      },
      "source": [
        "# 인풋 아웃풋도 그냥 스킵"
      ],
      "execution_count": 35,
      "outputs": []
    },
    {
      "cell_type": "markdown",
      "metadata": {
        "id": "XOnkAT5XxkZu"
      },
      "source": [
        "# Inspecting"
      ]
    },
    {
      "cell_type": "code",
      "metadata": {
        "id": "T3yyFjUSxiZ8"
      },
      "source": [
        "arr = np.random.random([5,2,3])"
      ],
      "execution_count": 36,
      "outputs": []
    },
    {
      "cell_type": "code",
      "metadata": {
        "colab": {
          "base_uri": "https://localhost:8080/"
        },
        "id": "K1O0mUAwxuHt",
        "outputId": "dbf03840-bf6d-4d9d-d311-eac4248d0dc2"
      },
      "source": [
        "arr = np.random.random(100) # 100개의 벡터를 만들어냄.\n",
        "arr"
      ],
      "execution_count": 37,
      "outputs": [
        {
          "output_type": "execute_result",
          "data": {
            "text/plain": [
              "array([0.49406097, 0.47961493, 0.97718808, 0.6566189 , 0.51984429,\n",
              "       0.69736471, 0.19265343, 0.13088882, 0.1689875 , 0.86678033,\n",
              "       0.17103539, 0.36351418, 0.23758465, 0.85113479, 0.82212091,\n",
              "       0.23830842, 0.56931454, 0.27762081, 0.2000118 , 0.33732487,\n",
              "       0.05895704, 0.58105148, 0.98158927, 0.53065845, 0.10141615,\n",
              "       0.30511801, 0.30169005, 0.97289996, 0.60343775, 0.13170503,\n",
              "       0.61217162, 0.91097373, 0.12345525, 0.44748737, 0.97102652,\n",
              "       0.29321909, 0.82451413, 0.54637259, 0.48579722, 0.17992859,\n",
              "       0.00297728, 0.42563267, 0.74705244, 0.85945861, 0.69734693,\n",
              "       0.49689166, 0.95222886, 0.29088344, 0.83729507, 0.35856563,\n",
              "       0.35306742, 0.84781602, 0.32134689, 0.60789062, 0.8862951 ,\n",
              "       0.83831238, 0.23456226, 0.77312576, 0.64434833, 0.97627593,\n",
              "       0.50592327, 0.44935005, 0.75232024, 0.07894411, 0.78955476,\n",
              "       0.95470305, 0.88324019, 0.05479031, 0.39773007, 0.99201902,\n",
              "       0.51858839, 0.55090872, 0.63348543, 0.03558048, 0.97079418,\n",
              "       0.18442556, 0.68551385, 0.84572378, 0.75741689, 0.43785524,\n",
              "       0.4212693 , 0.92477481, 0.07375788, 0.84055916, 0.14688646,\n",
              "       0.06727397, 0.78660711, 0.01500199, 0.89332924, 0.25226853,\n",
              "       0.75335372, 0.63583703, 0.44238077, 0.45975859, 0.24576812,\n",
              "       0.19966317, 0.58294247, 0.73140012, 0.85758547, 0.95652061])"
            ]
          },
          "metadata": {
            "tags": []
          },
          "execution_count": 37
        }
      ]
    },
    {
      "cell_type": "code",
      "metadata": {
        "colab": {
          "base_uri": "https://localhost:8080/"
        },
        "id": "54Aixc99x_HG",
        "outputId": "40ccc859-6856-4e16-cddd-e30d7bce0567"
      },
      "source": [
        "arr = np.random.random([5,2,3])\n",
        "arr\n",
        "# 3차원짜리가 5개 2개 3개 안쪽으로 "
      ],
      "execution_count": 38,
      "outputs": [
        {
          "output_type": "execute_result",
          "data": {
            "text/plain": [
              "array([[[0.20225938, 0.66722042, 0.14582849],\n",
              "        [0.56756386, 0.64753703, 0.94402663]],\n",
              "\n",
              "       [[0.4872618 , 0.84965521, 0.23236251],\n",
              "        [0.82374461, 0.41331732, 0.65491411]],\n",
              "\n",
              "       [[0.47367543, 0.01905725, 0.44138344],\n",
              "        [0.97845421, 0.87885041, 0.76677923]],\n",
              "\n",
              "       [[0.98847442, 0.9437671 , 0.22319572],\n",
              "        [0.67535204, 0.71328628, 0.94241389]],\n",
              "\n",
              "       [[0.07116703, 0.16923996, 0.81225512],\n",
              "        [0.14008042, 0.5807084 , 0.98277092]]])"
            ]
          },
          "metadata": {
            "tags": []
          },
          "execution_count": 38
        }
      ]
    },
    {
      "cell_type": "code",
      "metadata": {
        "colab": {
          "base_uri": "https://localhost:8080/"
        },
        "id": "3t6_qaRDyFy9",
        "outputId": "4a0864c6-61cf-408c-a403-829b68488d90"
      },
      "source": [
        "print(type(arr))\n",
        "print(len(arr))  # 큰 대괄호가 몇개있냐는 관점 \n",
        "print(arr.shape)  # 몇바이몇바이몇이냐 \n",
        "print(arr.ndim)  # 몇 디멘션이냐 -> 3\n",
        "print(arr.size)  # 5*2*3 숫자들의 개수 \n",
        "print(arr.dtype) # float와 float64는 소수점아래 숫자들 개수 차이"
      ],
      "execution_count": 42,
      "outputs": [
        {
          "output_type": "stream",
          "text": [
            "<class 'numpy.ndarray'>\n",
            "5\n",
            "(5, 2, 3)\n",
            "3\n",
            "30\n",
            "float64\n"
          ],
          "name": "stdout"
        }
      ]
    },
    {
      "cell_type": "code",
      "metadata": {
        "colab": {
          "base_uri": "https://localhost:8080/",
          "height": 55
        },
        "id": "ymr5PzZkyiZB",
        "outputId": "60aab05b-5a79-4ffe-f400-73e1a1324fd4"
      },
      "source": [
        "str = 'TEXT'\n",
        "print(type(str))\n",
        "str.lower()\n",
        "# .찍어서 사용할수있는게 클래스였구나"
      ],
      "execution_count": 40,
      "outputs": [
        {
          "output_type": "stream",
          "text": [
            "<class 'str'>\n"
          ],
          "name": "stdout"
        },
        {
          "output_type": "execute_result",
          "data": {
            "application/vnd.google.colaboratory.intrinsic+json": {
              "type": "string"
            },
            "text/plain": [
              "'text'"
            ]
          },
          "metadata": {
            "tags": []
          },
          "execution_count": 40
        }
      ]
    },
    {
      "cell_type": "markdown",
      "metadata": {
        "id": "zUYZgTRfznfp"
      },
      "source": [
        "# Operations"
      ]
    },
    {
      "cell_type": "markdown",
      "metadata": {
        "id": "sH8XdBRmzqAA"
      },
      "source": [
        "## Arithmetic"
      ]
    },
    {
      "cell_type": "code",
      "metadata": {
        "colab": {
          "base_uri": "https://localhost:8080/"
        },
        "id": "4_kEoNrWylzR",
        "outputId": "9f4dc756-d7c3-4407-edc3-8819118ac06b"
      },
      "source": [
        "a = np.arange(1,5)\n",
        "b = np.arange(9,5,-1)\n",
        "a"
      ],
      "execution_count": 43,
      "outputs": [
        {
          "output_type": "execute_result",
          "data": {
            "text/plain": [
              "array([1, 2, 3, 4])"
            ]
          },
          "metadata": {
            "tags": []
          },
          "execution_count": 43
        }
      ]
    },
    {
      "cell_type": "code",
      "metadata": {
        "colab": {
          "base_uri": "https://localhost:8080/"
        },
        "id": "IAgZUBqWz-sa",
        "outputId": "21fc5838-5f98-42d1-df96-572087982868"
      },
      "source": [
        "a = np.arange(1,5)\n",
        "b = np.arange(9,5,-1)\n",
        "b"
      ],
      "execution_count": 47,
      "outputs": [
        {
          "output_type": "execute_result",
          "data": {
            "text/plain": [
              "array([9, 8, 7, 6])"
            ]
          },
          "metadata": {
            "tags": []
          },
          "execution_count": 47
        }
      ]
    },
    {
      "cell_type": "code",
      "metadata": {
        "colab": {
          "base_uri": "https://localhost:8080/"
        },
        "id": "R1cSjxwCzwwJ",
        "outputId": "a72217fa-c3c8-4bd4-bb8d-f0cc52137588"
      },
      "source": [
        "print(a - b)\n",
        "print(a * b)\n",
        "# 1,4 와 1,4가 어떻게 곱해질수 있을까\n",
        "# 행렬의 곱이 아님.\n",
        "# 행렬의 형태를 띄고있긴 하지만, 찐 행렬은 아님. \n",
        "# 그런 행렬이 되게 하기 위해선 ,"
      ],
      "execution_count": 44,
      "outputs": [
        {
          "output_type": "stream",
          "text": [
            "[-8 -6 -4 -2]\n",
            "[ 9 16 21 24]\n"
          ],
          "name": "stdout"
        }
      ]
    },
    {
      "cell_type": "code",
      "metadata": {
        "colab": {
          "base_uri": "https://localhost:8080/"
        },
        "id": "J0-rYJK80kwK",
        "outputId": "fc15f571-04eb-4b48-95f0-7c4bf80de5ec"
      },
      "source": [
        "a = np.arange(1,5)\n",
        "b = np.arange(9,5,-1)\n",
        "print(a)\n",
        "print(b)\n",
        "# 실제 matrix는 아니구나 "
      ],
      "execution_count": 48,
      "outputs": [
        {
          "output_type": "stream",
          "text": [
            "[1 2 3 4]\n",
            "[9 8 7 6]\n"
          ],
          "name": "stdout"
        }
      ]
    },
    {
      "cell_type": "code",
      "metadata": {
        "id": "q_h1BgVozzoZ"
      },
      "source": [
        "a = np.matrix(a)\n",
        "b = np.matrix(b)\n",
        "# 찐 matrix를 만들어냄."
      ],
      "execution_count": 50,
      "outputs": []
    },
    {
      "cell_type": "code",
      "metadata": {
        "colab": {
          "base_uri": "https://localhost:8080/"
        },
        "id": "cKAwSfbg02FG",
        "outputId": "656c1883-f4cb-48ec-fe8a-f4aebe8c50a1"
      },
      "source": [
        "print(a)\n",
        "print(b)"
      ],
      "execution_count": 51,
      "outputs": [
        {
          "output_type": "stream",
          "text": [
            "[[1 2 3 4]]\n",
            "[[9 8 7 6]]\n"
          ],
          "name": "stdout"
        }
      ]
    },
    {
      "cell_type": "code",
      "metadata": {
        "colab": {
          "base_uri": "https://localhost:8080/"
        },
        "id": "TwjWgcRsz3GH",
        "outputId": "7cf1c63e-06cc-4f7b-84f3-82d551ac929b"
      },
      "source": [
        "a* b.T \n",
        "# 거꾸로 4*1로 바꿔주는 것: .Transpose(.T)\n",
        "# 결국 1*1 matrix가됨. "
      ],
      "execution_count": 52,
      "outputs": [
        {
          "output_type": "execute_result",
          "data": {
            "text/plain": [
              "matrix([[70]])"
            ]
          },
          "metadata": {
            "tags": []
          },
          "execution_count": 52
        }
      ]
    },
    {
      "cell_type": "code",
      "metadata": {
        "colab": {
          "base_uri": "https://localhost:8080/"
        },
        "id": "mhy6gV6gz4rx",
        "outputId": "b69f8be0-eafa-46ba-bf19-fdf72c9dcc3c"
      },
      "source": [
        "a.T * b\n",
        "# (4*1) * (1*4) --> (4*4)매트릭스"
      ],
      "execution_count": 53,
      "outputs": [
        {
          "output_type": "execute_result",
          "data": {
            "text/plain": [
              "matrix([[ 9,  8,  7,  6],\n",
              "        [18, 16, 14, 12],\n",
              "        [27, 24, 21, 18],\n",
              "        [36, 32, 28, 24]])"
            ]
          },
          "metadata": {
            "tags": []
          },
          "execution_count": 53
        }
      ]
    },
    {
      "cell_type": "markdown",
      "metadata": {
        "id": "7r-V7sMd1rDj"
      },
      "source": [
        "## Comparison"
      ]
    },
    {
      "cell_type": "code",
      "metadata": {
        "id": "LKxAjvJ71E3J"
      },
      "source": [
        ""
      ],
      "execution_count": 53,
      "outputs": []
    },
    {
      "cell_type": "markdown",
      "metadata": {
        "id": "HlA-lhdK2FOj"
      },
      "source": [
        "## Aggregate( sum, min, max, mean, median, std)"
      ]
    },
    {
      "cell_type": "markdown",
      "metadata": {
        "id": "ik6YBeFk11Nr"
      },
      "source": [
        "# Broadcasting"
      ]
    },
    {
      "cell_type": "code",
      "metadata": {
        "id": "5vFRYpmE12xF"
      },
      "source": [
        "a = np.arange(1,25).reshape(4,6)"
      ],
      "execution_count": 54,
      "outputs": []
    },
    {
      "cell_type": "code",
      "metadata": {
        "id": "AR4be5_u18Ih"
      },
      "source": [
        ""
      ],
      "execution_count": null,
      "outputs": []
    }
  ]
}