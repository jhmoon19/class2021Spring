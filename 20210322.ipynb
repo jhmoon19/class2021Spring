{
  "nbformat": 4,
  "nbformat_minor": 0,
  "metadata": {
    "colab": {
      "name": "20210322.ipynb",
      "provenance": [],
      "authorship_tag": "ABX9TyMOJZU4P9l/22VE+JJAys2C",
      "include_colab_link": true
    },
    "kernelspec": {
      "name": "python3",
      "display_name": "Python 3"
    },
    "language_info": {
      "name": "python"
    }
  },
  "cells": [
    {
      "cell_type": "markdown",
      "metadata": {
        "id": "view-in-github",
        "colab_type": "text"
      },
      "source": [
        "<a href=\"https://colab.research.google.com/github/jhmoon19/class2021Spring/blob/main/20210322.ipynb\" target=\"_parent\"><img src=\"https://colab.research.google.com/assets/colab-badge.svg\" alt=\"Open In Colab\"/></a>"
      ]
    },
    {
      "cell_type": "code",
      "metadata": {
        "id": "LU7sQfqJT1yF"
      },
      "source": [
        "def add(a,b):\n",
        "  return a+b\n",
        "\n",
        "def subtract(a,b):\n",
        "  return a-b\n",
        "\n",
        "def multiply(a,b):\n",
        "  return a*b\n",
        "\n",
        "def divide(a,b):\n",
        "  return a/b"
      ],
      "execution_count": 1,
      "outputs": []
    },
    {
      "cell_type": "markdown",
      "metadata": {
        "id": "nceSlwTMUaiS"
      },
      "source": [
        "함수: 입력을 받아서 변형되고 출력을 한다."
      ]
    },
    {
      "cell_type": "code",
      "metadata": {
        "colab": {
          "base_uri": "https://localhost:8080/"
        },
        "id": "sUUKHNKGUt2T",
        "outputId": "7d172921-fd40-4531-f0de-227ea1cfd84d"
      },
      "source": [
        "c = add(1,2); print(c)\n",
        "c = subtract(1,2); print(c)\n",
        "c = multiply(1,2); print(c)\n",
        "c = divide(1,2); print(c)"
      ],
      "execution_count": 2,
      "outputs": [
        {
          "output_type": "stream",
          "text": [
            "3\n",
            "-1\n",
            "2\n",
            "0.5\n"
          ],
          "name": "stdout"
        }
      ]
    },
    {
      "cell_type": "code",
      "metadata": {
        "id": "vRa2nioGU6IN"
      },
      "source": [
        "def func1(x,a,b):\n",
        "  return a*x+b"
      ],
      "execution_count": 10,
      "outputs": []
    },
    {
      "cell_type": "code",
      "metadata": {
        "colab": {
          "base_uri": "https://localhost:8080/"
        },
        "id": "kEJXnNTUVO7I",
        "outputId": "c29237f3-e3ee-47f4-f080-cc74b6f9ff0f"
      },
      "source": [
        "p = func1(1,2,3)\n",
        "print(p)"
      ],
      "execution_count": 11,
      "outputs": [
        {
          "output_type": "stream",
          "text": [
            "5\n"
          ],
          "name": "stdout"
        }
      ]
    },
    {
      "cell_type": "code",
      "metadata": {
        "id": "g5fwSho6VTII"
      },
      "source": [
        "def add():\n",
        "  a = 1"
      ],
      "execution_count": 12,
      "outputs": []
    },
    {
      "cell_type": "markdown",
      "metadata": {
        "id": "fynSqlWdXCg7"
      },
      "source": [
        "# 함수 만들어보기"
      ]
    },
    {
      "cell_type": "code",
      "metadata": {
        "id": "uv3AhOzKWYiJ"
      },
      "source": [
        "def average(a, b, c, d, e):\n",
        "  y = (a+b+c+d+e)/5\n",
        "  return y"
      ],
      "execution_count": 16,
      "outputs": []
    },
    {
      "cell_type": "code",
      "metadata": {
        "colab": {
          "base_uri": "https://localhost:8080/"
        },
        "id": "KzxdF1aZXW25",
        "outputId": "26cbe8d0-ed54-47a5-981a-6c1b6a6f9efb"
      },
      "source": [
        "average(1,2,3,4,5)"
      ],
      "execution_count": 17,
      "outputs": [
        {
          "output_type": "execute_result",
          "data": {
            "text/plain": [
              "3.0"
            ]
          },
          "metadata": {
            "tags": []
          },
          "execution_count": 17
        }
      ]
    },
    {
      "cell_type": "markdown",
      "metadata": {
        "id": "XE2VgU03X6-i"
      },
      "source": [
        "## 이차함수 만들기"
      ]
    },
    {
      "cell_type": "code",
      "metadata": {
        "id": "jQec7PnrXaAe"
      },
      "source": [
        "def func1(x, a, b,c):\n",
        "  y = a*x**2 + b*x + c\n",
        "  return y"
      ],
      "execution_count": 20,
      "outputs": []
    },
    {
      "cell_type": "code",
      "metadata": {
        "colab": {
          "base_uri": "https://localhost:8080/"
        },
        "id": "UPRgZEjeXtni",
        "outputId": "14dfd8e3-0d7b-4e58-d1dd-1c13a24992bc"
      },
      "source": [
        "func1(2,5,6,9)"
      ],
      "execution_count": 21,
      "outputs": [
        {
          "output_type": "execute_result",
          "data": {
            "text/plain": [
              "41"
            ]
          },
          "metadata": {
            "tags": []
          },
          "execution_count": 21
        }
      ]
    },
    {
      "cell_type": "code",
      "metadata": {
        "id": "FXs2A-6cXxEz"
      },
      "source": [
        ""
      ],
      "execution_count": null,
      "outputs": []
    }
  ]
}