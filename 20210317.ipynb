{
  "nbformat": 4,
  "nbformat_minor": 0,
  "metadata": {
    "colab": {
      "name": "20210317.ipynb",
      "provenance": [],
      "authorship_tag": "ABX9TyNPrec/851bUm49ZPLG064v",
      "include_colab_link": true
    },
    "kernelspec": {
      "name": "python3",
      "display_name": "Python 3"
    }
  },
  "cells": [
    {
      "cell_type": "markdown",
      "metadata": {
        "id": "view-in-github",
        "colab_type": "text"
      },
      "source": [
        "<a href=\"https://colab.research.google.com/github/jhmoon19/class2021Spring/blob/main/20210317.ipynb\" target=\"_parent\"><img src=\"https://colab.research.google.com/assets/colab-badge.svg\" alt=\"Open In Colab\"/></a>"
      ]
    },
    {
      "cell_type": "code",
      "metadata": {
        "colab": {
          "base_uri": "https://localhost:8080/"
        },
        "id": "LdTUJXl-ucVM",
        "outputId": "f64bf1fe-f5f7-464e-93d3-3e8ca994c613"
      },
      "source": [
        "a = [1, 3, 5, 7, 9]\r\n",
        "for i in a:\r\n",
        "  for j in a:\r\n",
        "    if j >= 7:\r\n",
        "      print(i *j)"
      ],
      "execution_count": 1,
      "outputs": [
        {
          "output_type": "stream",
          "text": [
            "7\n",
            "9\n",
            "21\n",
            "27\n",
            "35\n",
            "45\n",
            "49\n",
            "63\n",
            "63\n",
            "81\n"
          ],
          "name": "stdout"
        }
      ]
    },
    {
      "cell_type": "code",
      "metadata": {
        "colab": {
          "base_uri": "https://localhost:8080/"
        },
        "id": "POy79umluroH",
        "outputId": "3b8a4c59-7283-41f8-dab6-f41e326aec6d"
      },
      "source": [
        "a = [2,4, 6, 8, 10]\r\n",
        "b = [i for i in a if i>=8]\r\n",
        "b"
      ],
      "execution_count": 2,
      "outputs": [
        {
          "output_type": "execute_result",
          "data": {
            "text/plain": [
              "[8, 10]"
            ]
          },
          "metadata": {
            "tags": []
          },
          "execution_count": 2
        }
      ]
    },
    {
      "cell_type": "code",
      "metadata": {
        "colab": {
          "base_uri": "https://localhost:8080/"
        },
        "id": "Kxix6C-bvAjh",
        "outputId": "2e2947e5-4b5c-43c5-9d1d-e1843af1fdfd"
      },
      "source": [
        "a = ['lion', 'gorilla', 'fox', 'octopus','whale']\r\n",
        "b = [i for i in a if len(i)>=5]\r\n",
        "b"
      ],
      "execution_count": 4,
      "outputs": [
        {
          "output_type": "execute_result",
          "data": {
            "text/plain": [
              "['gorilla', 'octopus', 'whale']"
            ]
          },
          "metadata": {
            "tags": []
          },
          "execution_count": 4
        }
      ]
    }
  ]
}