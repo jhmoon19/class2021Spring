{
  "nbformat": 4,
  "nbformat_minor": 0,
  "metadata": {
    "colab": {
      "name": "module.ipynb",
      "provenance": [],
      "authorship_tag": "ABX9TyMS2TKgYScq4StrXYbMiryY",
      "include_colab_link": true
    },
    "kernelspec": {
      "name": "python3",
      "display_name": "Python 3"
    },
    "language_info": {
      "name": "python"
    }
  },
  "cells": [
    {
      "cell_type": "markdown",
      "metadata": {
        "id": "view-in-github",
        "colab_type": "text"
      },
      "source": [
        "<a href=\"https://colab.research.google.com/github/jhmoon19/class2021Spring/blob/main/module.ipynb\" target=\"_parent\"><img src=\"https://colab.research.google.com/assets/colab-badge.svg\" alt=\"Open In Colab\"/></a>"
      ]
    },
    {
      "cell_type": "markdown",
      "metadata": {
        "id": "Wr_xjsbjabox"
      },
      "source": [
        "# 클래스 \n",
        "\n",
        "함수(기계)+변수(재료)= 모듈(클래스)(함수, 변수, 클래스 모아놓은 파일)\n",
        "\n",
        "OOP(opject oriented program)\n",
        "\n",
        "~~.py --> 이렇게 저장 "
      ]
    },
    {
      "cell_type": "code",
      "metadata": {
        "id": "w7itNh0iaYn1"
      },
      "source": [
        "class cal:\n",
        "  def __init__(self):\n",
        "    self.result = 0   # self.result가 변수 \n",
        "  def add(self, n):\n",
        "    self.result += n  # self.result가 변수 \n",
        "    return self.result"
      ],
      "execution_count": 2,
      "outputs": []
    },
    {
      "cell_type": "code",
      "metadata": {
        "colab": {
          "base_uri": "https://localhost:8080/"
        },
        "id": "3BPuTg88baNg",
        "outputId": "4723907e-5285-4f82-8433-2e4ebe216ae2"
      },
      "source": [
        "A = cal()   # A는 객체\n",
        "A.result"
      ],
      "execution_count": 4,
      "outputs": [
        {
          "output_type": "execute_result",
          "data": {
            "text/plain": [
              "0"
            ]
          },
          "metadata": {
            "tags": []
          },
          "execution_count": 4
        }
      ]
    },
    {
      "cell_type": "code",
      "metadata": {
        "colab": {
          "base_uri": "https://localhost:8080/"
        },
        "id": "NrI9rITbceuw",
        "outputId": "35d610b7-36bc-41e5-cba9-a0e7d1cc76e7"
      },
      "source": [
        "A.add(4)    # n만이 실제 입력 "
      ],
      "execution_count": 6,
      "outputs": [
        {
          "output_type": "execute_result",
          "data": {
            "text/plain": [
              "8"
            ]
          },
          "metadata": {
            "tags": []
          },
          "execution_count": 6
        }
      ]
    },
    {
      "cell_type": "code",
      "metadata": {
        "colab": {
          "base_uri": "https://localhost:8080/"
        },
        "id": "HLclKK1zcrwO",
        "outputId": "b2bafcb5-49a2-4609-edb0-0eaac4ace826"
      },
      "source": [
        "A.add(2)"
      ],
      "execution_count": 7,
      "outputs": [
        {
          "output_type": "execute_result",
          "data": {
            "text/plain": [
              "10"
            ]
          },
          "metadata": {
            "tags": []
          },
          "execution_count": 7
        }
      ]
    },
    {
      "cell_type": "code",
      "metadata": {
        "id": "J_4VYfPBdM7b"
      },
      "source": [
        "B = cal()"
      ],
      "execution_count": 8,
      "outputs": []
    },
    {
      "cell_type": "code",
      "metadata": {
        "colab": {
          "base_uri": "https://localhost:8080/"
        },
        "id": "_lMmWXhAdgUY",
        "outputId": "f56db5f8-b38c-4370-d7cc-f93d7114b1f2"
      },
      "source": [
        "B.result"
      ],
      "execution_count": 9,
      "outputs": [
        {
          "output_type": "execute_result",
          "data": {
            "text/plain": [
              "0"
            ]
          },
          "metadata": {
            "tags": []
          },
          "execution_count": 9
        }
      ]
    },
    {
      "cell_type": "code",
      "metadata": {
        "colab": {
          "base_uri": "https://localhost:8080/"
        },
        "id": "q6ms5sp5dhiu",
        "outputId": "3cd0055e-326f-49d1-ac83-11d759351e6b"
      },
      "source": [
        "B.add(5)"
      ],
      "execution_count": 10,
      "outputs": [
        {
          "output_type": "execute_result",
          "data": {
            "text/plain": [
              "5"
            ]
          },
          "metadata": {
            "tags": []
          },
          "execution_count": 10
        }
      ]
    },
    {
      "cell_type": "code",
      "metadata": {
        "id": "IVpt44pRdoFr"
      },
      "source": [
        "def func(a,b,x):\n",
        "  y = a*x + b\n",
        "  return y"
      ],
      "execution_count": 11,
      "outputs": []
    },
    {
      "cell_type": "markdown",
      "metadata": {
        "id": "nzPKqmyufLsl"
      },
      "source": [
        "# 패키지 \n",
        "\n",
        ": 모듈을 여러개 묶어놓은 것 "
      ]
    },
    {
      "cell_type": "code",
      "metadata": {
        "id": "-dXdYqvKez82"
      },
      "source": [
        ""
      ],
      "execution_count": null,
      "outputs": []
    }
  ]
}