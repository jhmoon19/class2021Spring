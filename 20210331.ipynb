{
  "nbformat": 4,
  "nbformat_minor": 0,
  "metadata": {
    "colab": {
      "name": "20210331.ipynb",
      "provenance": [],
      "authorship_tag": "ABX9TyOLwspNNYPrrI/9MuD3/2XG",
      "include_colab_link": true
    },
    "kernelspec": {
      "name": "python3",
      "display_name": "Python 3"
    },
    "language_info": {
      "name": "python"
    }
  },
  "cells": [
    {
      "cell_type": "markdown",
      "metadata": {
        "id": "view-in-github",
        "colab_type": "text"
      },
      "source": [
        "<a href=\"https://colab.research.google.com/github/jhmoon19/class2021Spring/blob/main/20210331.ipynb\" target=\"_parent\"><img src=\"https://colab.research.google.com/assets/colab-badge.svg\" alt=\"Open In Colab\"/></a>"
      ]
    },
    {
      "cell_type": "code",
      "metadata": {
        "id": "VaFFs9q26bc1"
      },
      "source": [
        ""
      ],
      "execution_count": null,
      "outputs": []
    },
    {
      "cell_type": "markdown",
      "metadata": {
        "id": "hEDH_kDT7DjF"
      },
      "source": [
        "# 'ㅏ' vs 'ㅐ'"
      ]
    },
    {
      "cell_type": "markdown",
      "metadata": {
        "id": "lDIyuK2n6eDR"
      },
      "source": [
        "pitch: 117.117 Hz / 117.350 Hz\n",
        "\n",
        "intensity: 79.22 dB / 83.05 dB\n",
        "\n",
        "formant: 852.469 Hz, 1255.983 Hz / 534.185 Hz, 2137.615 Hz\n",
        "\n",
        "duration: total 4.636735 sec (1.607173 & 3.029562)"
      ]
    }
  ]
}