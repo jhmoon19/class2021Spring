{
  "nbformat": 4,
  "nbformat_minor": 0,
  "metadata": {
    "colab": {
      "name": "variables.ipynb",
      "provenance": [],
      "authorship_tag": "ABX9TyMH5h8QWFS/8WYbSX025tnB",
      "include_colab_link": true
    },
    "kernelspec": {
      "name": "python3",
      "display_name": "Python 3"
    }
  },
  "cells": [
    {
      "cell_type": "markdown",
      "metadata": {
        "id": "view-in-github",
        "colab_type": "text"
      },
      "source": [
        "<a href=\"https://colab.research.google.com/github/jhmoon19/class2021Spring/blob/main/variables.ipynb\" target=\"_parent\"><img src=\"https://colab.research.google.com/assets/colab-badge.svg\" alt=\"Open In Colab\"/></a>"
      ]
    },
    {
      "cell_type": "markdown",
      "metadata": {
        "id": "u9NEmWtwXmdW"
      },
      "source": [
        "# 3.15. 변수"
      ]
    },
    {
      "cell_type": "code",
      "metadata": {
        "colab": {
          "base_uri": "https://localhost:8080/"
        },
        "id": "xIB_45ktRUzT",
        "outputId": "514cb1b4-adad-4b1e-957d-499e98d0d04f"
      },
      "source": [
        "a = 1; print(type(a))"
      ],
      "execution_count": 1,
      "outputs": [
        {
          "output_type": "stream",
          "text": [
            "<class 'int'>\n"
          ],
          "name": "stdout"
        }
      ]
    },
    {
      "cell_type": "markdown",
      "metadata": {
        "id": "fdYrubQ2Rvkc"
      },
      "source": [
        "한줄에 쓰고 싶으면, 세미콜론 쓰기!\r\n",
        "\r\n",
        "가능한한 여러줄에 예쁘게!"
      ]
    },
    {
      "cell_type": "code",
      "metadata": {
        "colab": {
          "base_uri": "https://localhost:8080/"
        },
        "id": "WSiMzx99SLHe",
        "outputId": "9e846c58-3974-4c50-f227-fc1f89b5c203"
      },
      "source": [
        "a = 1; a = float(a); print(type(a))\r\n",
        "# float(a)를 통해서 실수형태로 바꿈!!\r\n",
        "print(a)"
      ],
      "execution_count": 5,
      "outputs": [
        {
          "output_type": "stream",
          "text": [
            "<class 'float'>\n",
            "1.0\n"
          ],
          "name": "stdout"
        }
      ]
    },
    {
      "cell_type": "code",
      "metadata": {
        "colab": {
          "base_uri": "https://localhost:8080/"
        },
        "id": "cXcXM-C7RZfI",
        "outputId": "40120295-66bb-4b26-df39-e7f4d422fc41"
      },
      "source": [
        "a = 1\r\n",
        "a\r\n",
        "b = 2\r\n",
        "b\r\n",
        "c = 3\r\n",
        "c"
      ],
      "execution_count": 2,
      "outputs": [
        {
          "output_type": "execute_result",
          "data": {
            "text/plain": [
              "3"
            ]
          },
          "metadata": {
            "tags": []
          },
          "execution_count": 2
        }
      ]
    },
    {
      "cell_type": "markdown",
      "metadata": {
        "id": "ZtQzb1WFRi-r"
      },
      "source": [
        "여러줄에 그냥 쓰면 마지막줄만 출력이됨."
      ]
    },
    {
      "cell_type": "code",
      "metadata": {
        "colab": {
          "base_uri": "https://localhost:8080/"
        },
        "id": "spf_TkQURgNZ",
        "outputId": "67ec59a4-9366-45d2-adce-5058aaecb556"
      },
      "source": [
        "a = 1\r\n",
        "print(a)\r\n",
        "b = 2\r\n",
        "print(b)\r\n",
        "c = 3\r\n",
        "print(c)"
      ],
      "execution_count": 3,
      "outputs": [
        {
          "output_type": "stream",
          "text": [
            "1\n",
            "2\n",
            "3\n"
          ],
          "name": "stdout"
        }
      ]
    },
    {
      "cell_type": "markdown",
      "metadata": {
        "id": "AZkxOZ4gR8UO"
      },
      "source": [
        "프린트를 써야 모두 출력이 됨. "
      ]
    },
    {
      "cell_type": "code",
      "metadata": {
        "colab": {
          "base_uri": "https://localhost:8080/"
        },
        "id": "wOeJhtxURsuB",
        "outputId": "0beeaeeb-b819-4e70-e61f-5849c9c63d86"
      },
      "source": [
        "a = 1.2; a= int(a); print(type(a))\r\n",
        "print(a)"
      ],
      "execution_count": 6,
      "outputs": [
        {
          "output_type": "stream",
          "text": [
            "<class 'int'>\n",
            "1\n"
          ],
          "name": "stdout"
        }
      ]
    },
    {
      "cell_type": "markdown",
      "metadata": {
        "id": "e6nCEY2QTL24"
      },
      "source": [
        "### 인덱싱 "
      ]
    },
    {
      "cell_type": "code",
      "metadata": {
        "colab": {
          "base_uri": "https://localhost:8080/"
        },
        "id": "VlDromkBSpyw",
        "outputId": "b970bd10-4af7-4d03-a597-3999bb4172da"
      },
      "source": [
        "a = '123'; print(type(a)); print(a[1])\r\n",
        "# a[1]은 문자열에서 두번째 위치 의미!"
      ],
      "execution_count": 7,
      "outputs": [
        {
          "output_type": "stream",
          "text": [
            "<class 'str'>\n",
            "2\n"
          ],
          "name": "stdout"
        }
      ]
    },
    {
      "cell_type": "code",
      "metadata": {
        "colab": {
          "base_uri": "https://localhost:8080/"
        },
        "id": "QX1WjAajSwo1",
        "outputId": "1a0a0564-19c5-4b55-e20a-ef4ff93de258"
      },
      "source": [
        "a = 'korea'\r\n",
        "a[0], a[1]"
      ],
      "execution_count": 9,
      "outputs": [
        {
          "output_type": "execute_result",
          "data": {
            "text/plain": [
              "('k', 'o')"
            ]
          },
          "metadata": {
            "tags": []
          },
          "execution_count": 9
        }
      ]
    },
    {
      "cell_type": "code",
      "metadata": {
        "colab": {
          "base_uri": "https://localhost:8080/"
        },
        "id": "s5xYNl7kTFuu",
        "outputId": "e28e2551-725f-4608-8f6c-2f461952ad26"
      },
      "source": [
        "a= '1,2,3'\r\n",
        "a = list(a)\r\n",
        "a"
      ],
      "execution_count": 10,
      "outputs": [
        {
          "output_type": "execute_result",
          "data": {
            "text/plain": [
              "['1', ',', '2', ',', '3']"
            ]
          },
          "metadata": {
            "tags": []
          },
          "execution_count": 10
        }
      ]
    },
    {
      "cell_type": "code",
      "metadata": {
        "colab": {
          "base_uri": "https://localhost:8080/"
        },
        "id": "FM1vUJegTcYS",
        "outputId": "0411dfda-247f-44c8-f76d-e09ddf2b010a"
      },
      "source": [
        "a = '123'\r\n",
        "print(type(a))\r\n",
        "a = list(a)\r\n",
        "a\r\n",
        "print(type(a))"
      ],
      "execution_count": 12,
      "outputs": [
        {
          "output_type": "stream",
          "text": [
            "<class 'str'>\n",
            "<class 'list'>\n"
          ],
          "name": "stdout"
        }
      ]
    },
    {
      "cell_type": "markdown",
      "metadata": {
        "id": "zDvjlq1fTx0I"
      },
      "source": [
        "### 리스트\r\n"
      ]
    },
    {
      "cell_type": "code",
      "metadata": {
        "id": "FNSADO1yTi6J"
      },
      "source": [
        "a = ['ab', 'cde', 'jky']\r\n",
        "# 리스트 안에 문자열, 숫자 어떠한 형태 들어와도 상관없음\r\n",
        "# 리스트 안에 리스트 가능 \r\n",
        "a = [1, 'cde', [1,3]]"
      ],
      "execution_count": 14,
      "outputs": []
    },
    {
      "cell_type": "code",
      "metadata": {
        "colab": {
          "base_uri": "https://localhost:8080/"
        },
        "id": "PpUluBW9UBC8",
        "outputId": "7784df03-6f39-47e3-9472-82f97eeca95e"
      },
      "source": [
        "a = [1,'2',[3,'4']]\r\n",
        "print(type(a))\r\n",
        "print(a[0])\r\n",
        "print(a[1])\r\n",
        "print(a[2])"
      ],
      "execution_count": 15,
      "outputs": [
        {
          "output_type": "stream",
          "text": [
            "<class 'list'>\n",
            "1\n",
            "2\n",
            "[3, '4']\n"
          ],
          "name": "stdout"
        }
      ]
    },
    {
      "cell_type": "code",
      "metadata": {
        "colab": {
          "base_uri": "https://localhost:8080/"
        },
        "id": "DNohG9aPU0GD",
        "outputId": "eaf907ff-55b0-4429-de65-70a8f99895dd"
      },
      "source": [
        "a = (1,'2',[3,'4'])   # 튜플\r\n",
        "print(type(a))\r\n",
        "print(a[0])\r\n",
        "print(a[1])\r\n",
        "print(a[2])"
      ],
      "execution_count": 17,
      "outputs": [
        {
          "output_type": "stream",
          "text": [
            "<class 'tuple'>\n",
            "1\n",
            "2\n",
            "[3, '4']\n"
          ],
          "name": "stdout"
        }
      ]
    },
    {
      "cell_type": "code",
      "metadata": {
        "colab": {
          "base_uri": "https://localhost:8080/"
        },
        "id": "D__DG4B7VEz_",
        "outputId": "8fc7a974-538c-41e8-d1a7-0ce40df7532b"
      },
      "source": [
        "a = [1,2,3]\r\n",
        "a[0] = -1\r\n",
        "a"
      ],
      "execution_count": 18,
      "outputs": [
        {
          "output_type": "execute_result",
          "data": {
            "text/plain": [
              "[-1, 2, 3]"
            ]
          },
          "metadata": {
            "tags": []
          },
          "execution_count": 18
        }
      ]
    },
    {
      "cell_type": "code",
      "metadata": {
        "colab": {
          "base_uri": "https://localhost:8080/",
          "height": 213
        },
        "id": "yfgOsS39Vv6_",
        "outputId": "24d96a76-2e30-4630-ed35-274cb5569cbe"
      },
      "source": [
        "a = (1,2,3)\r\n",
        "a[0] = -1\r\n",
        "a           # 튜플은 바꿀수가 없음!! 더 안전함. 실수방지 "
      ],
      "execution_count": 19,
      "outputs": [
        {
          "output_type": "error",
          "ename": "TypeError",
          "evalue": "ignored",
          "traceback": [
            "\u001b[0;31m---------------------------------------------------------------------------\u001b[0m",
            "\u001b[0;31mTypeError\u001b[0m                                 Traceback (most recent call last)",
            "\u001b[0;32m<ipython-input-19-0c163091640e>\u001b[0m in \u001b[0;36m<module>\u001b[0;34m()\u001b[0m\n\u001b[1;32m      1\u001b[0m \u001b[0ma\u001b[0m \u001b[0;34m=\u001b[0m \u001b[0;34m(\u001b[0m\u001b[0;36m1\u001b[0m\u001b[0;34m,\u001b[0m\u001b[0;36m2\u001b[0m\u001b[0;34m,\u001b[0m\u001b[0;36m3\u001b[0m\u001b[0;34m)\u001b[0m\u001b[0;34m\u001b[0m\u001b[0;34m\u001b[0m\u001b[0m\n\u001b[0;32m----> 2\u001b[0;31m \u001b[0ma\u001b[0m\u001b[0;34m[\u001b[0m\u001b[0;36m0\u001b[0m\u001b[0;34m]\u001b[0m \u001b[0;34m=\u001b[0m \u001b[0;34m-\u001b[0m\u001b[0;36m1\u001b[0m\u001b[0;34m\u001b[0m\u001b[0;34m\u001b[0m\u001b[0m\n\u001b[0m\u001b[1;32m      3\u001b[0m \u001b[0ma\u001b[0m\u001b[0;34m\u001b[0m\u001b[0;34m\u001b[0m\u001b[0m\n",
            "\u001b[0;31mTypeError\u001b[0m: 'tuple' object does not support item assignment"
          ]
        }
      ]
    },
    {
      "cell_type": "code",
      "metadata": {
        "colab": {
          "base_uri": "https://localhost:8080/"
        },
        "id": "SatpSy26Vzy1",
        "outputId": "1c9c17fa-5172-4ab2-f855-c3e77d34640b"
      },
      "source": [
        "a = {\"a\":\"apple\", \"b\":\"orange\", \"c\":2014}\r\n",
        "print(type(a))\r\n",
        "a[\"a\"]    # a[0]은 오류발생!!! 싱글코드로 바꿀수있음.\r\n",
        "a['c'] = 2021\r\n",
        "a"
      ],
      "execution_count": 23,
      "outputs": [
        {
          "output_type": "stream",
          "text": [
            "<class 'dict'>\n"
          ],
          "name": "stdout"
        },
        {
          "output_type": "execute_result",
          "data": {
            "text/plain": [
              "{'a': 'apple', 'b': 'orange', 'c': 2021}"
            ]
          },
          "metadata": {
            "tags": []
          },
          "execution_count": 23
        }
      ]
    }
  ]
}