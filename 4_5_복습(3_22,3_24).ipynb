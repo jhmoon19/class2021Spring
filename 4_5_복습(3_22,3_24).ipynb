{
  "nbformat": 4,
  "nbformat_minor": 0,
  "metadata": {
    "colab": {
      "name": "4.5. 복습(3/22,3/24).ipynb",
      "provenance": [],
      "authorship_tag": "ABX9TyPXS8UZK2RzqEaD3Goo7YNj",
      "include_colab_link": true
    },
    "kernelspec": {
      "name": "python3",
      "display_name": "Python 3"
    },
    "language_info": {
      "name": "python"
    }
  },
  "cells": [
    {
      "cell_type": "markdown",
      "metadata": {
        "id": "view-in-github",
        "colab_type": "text"
      },
      "source": [
        "<a href=\"https://colab.research.google.com/github/jhmoon19/class2021Spring/blob/main/4_5_%EB%B3%B5%EC%8A%B5(3_22%2C3_24).ipynb\" target=\"_parent\"><img src=\"https://colab.research.google.com/assets/colab-badge.svg\" alt=\"Open In Colab\"/></a>"
      ]
    },
    {
      "cell_type": "markdown",
      "metadata": {
        "id": "0h0DyeCKV8E2"
      },
      "source": [
        "# 함수\n",
        "## 이렇게 해주는 이유:\n",
        "\n",
        "## 패키징을 해서 반복해서 쓰기 위해, 시간을 줄여줌. "
      ]
    },
    {
      "cell_type": "code",
      "metadata": {
        "id": "u1gJK0LEVBqx"
      },
      "source": [
        "def add(a,b):\n",
        "  return a+b"
      ],
      "execution_count": 1,
      "outputs": []
    },
    {
      "cell_type": "code",
      "metadata": {
        "id": "-gmkJupTWIDg"
      },
      "source": [
        "def subtract(a,b):\n",
        "  return a-b\n",
        "\n",
        "def multiply(a,b):\n",
        "  return a*b\n",
        "\n",
        "def divide(a,b):\n",
        "  return a/b"
      ],
      "execution_count": 2,
      "outputs": []
    },
    {
      "cell_type": "code",
      "metadata": {
        "id": "oyWge9LJWemu"
      },
      "source": [
        "def func1(x):\n",
        "  a=1\n",
        "  b= 2\n",
        "  y = a*x+b\n",
        "  return y"
      ],
      "execution_count": 6,
      "outputs": []
    },
    {
      "cell_type": "code",
      "metadata": {
        "colab": {
          "base_uri": "https://localhost:8080/"
        },
        "id": "M1fDqGEhW14K",
        "outputId": "6f027411-1753-48b2-ab7b-e6f3223e2ded"
      },
      "source": [
        "m = func1(3)\n",
        "print(m)"
      ],
      "execution_count": 7,
      "outputs": [
        {
          "output_type": "stream",
          "text": [
            "5\n"
          ],
          "name": "stdout"
        }
      ]
    },
    {
      "cell_type": "code",
      "metadata": {
        "colab": {
          "base_uri": "https://localhost:8080/"
        },
        "id": "pKLozNw5XAWl",
        "outputId": "3fd2145f-11cc-4ce7-983b-9fe741fb1e45"
      },
      "source": [
        "c = add(1,2); print(c)"
      ],
      "execution_count": 8,
      "outputs": [
        {
          "output_type": "stream",
          "text": [
            "3\n"
          ],
          "name": "stdout"
        }
      ]
    },
    {
      "cell_type": "code",
      "metadata": {
        "colab": {
          "base_uri": "https://localhost:8080/"
        },
        "id": "ka86QYh8XYK1",
        "outputId": "a782e63e-3a59-48a2-cf49-f86fc5a94f7e"
      },
      "source": [
        "c = subtract(1,2); print(c)"
      ],
      "execution_count": 9,
      "outputs": [
        {
          "output_type": "stream",
          "text": [
            "-1\n"
          ],
          "name": "stdout"
        }
      ]
    },
    {
      "cell_type": "code",
      "metadata": {
        "id": "pgGtu81sXbrO"
      },
      "source": [
        "def add(a,b):\n",
        "  c = a + b\n",
        "  # 이때는 출력이 없는 것 "
      ],
      "execution_count": 10,
      "outputs": []
    },
    {
      "cell_type": "code",
      "metadata": {
        "colab": {
          "base_uri": "https://localhost:8080/"
        },
        "id": "Vku7b7UiX7tL",
        "outputId": "bef54012-3a84-4bf5-d07a-2cabb290582b"
      },
      "source": [
        "c = add(1,2)\n",
        "print(c)\n",
        "# 돌아가긴 하지만, None"
      ],
      "execution_count": 11,
      "outputs": [
        {
          "output_type": "stream",
          "text": [
            "None\n"
          ],
          "name": "stdout"
        }
      ]
    },
    {
      "cell_type": "code",
      "metadata": {
        "id": "yvChF0k0X-i_"
      },
      "source": [
        "def add():\n",
        "  a = 1"
      ],
      "execution_count": 12,
      "outputs": []
    },
    {
      "cell_type": "code",
      "metadata": {
        "colab": {
          "base_uri": "https://localhost:8080/"
        },
        "id": "8-SyvLsEYJkH",
        "outputId": "cbb82039-8cbb-49a7-9df4-c0feac41c9f0"
      },
      "source": [
        "add(); print(c)\n",
        "# 입력과 출력 모두 없이 돌아감! None "
      ],
      "execution_count": 14,
      "outputs": [
        {
          "output_type": "stream",
          "text": [
            "None\n"
          ],
          "name": "stdout"
        }
      ]
    },
    {
      "cell_type": "code",
      "metadata": {
        "id": "DtrV77MxYLVG"
      },
      "source": [
        "def add(a,b):\n",
        "  return a,b"
      ],
      "execution_count": 17,
      "outputs": []
    },
    {
      "cell_type": "code",
      "metadata": {
        "colab": {
          "base_uri": "https://localhost:8080/"
        },
        "id": "PKH-ERHTYSpF",
        "outputId": "328c1402-da3f-4cda-db33-91ed93730540"
      },
      "source": [
        "result = add(1,2)\n",
        "print(result)"
      ],
      "execution_count": 18,
      "outputs": [
        {
          "output_type": "stream",
          "text": [
            "(1, 2)\n"
          ],
          "name": "stdout"
        }
      ]
    },
    {
      "cell_type": "code",
      "metadata": {
        "id": "mu2uTZyHYYRM"
      },
      "source": [
        "# 입력도, 출력도 0개 이상 가능\n",
        "# 튜플로도 출력 가능 "
      ],
      "execution_count": 19,
      "outputs": []
    },
    {
      "cell_type": "code",
      "metadata": {
        "id": "dWliIn2cYnnr"
      },
      "source": [
        "def func1(x,a,b):\n",
        "  y= a*x+b\n",
        "  return y"
      ],
      "execution_count": 20,
      "outputs": []
    },
    {
      "cell_type": "code",
      "metadata": {
        "colab": {
          "base_uri": "https://localhost:8080/"
        },
        "id": "HCyZyFyBZY3b",
        "outputId": "4652a73f-af24-459e-a3cb-2455e18900ee"
      },
      "source": [
        "print(func1(1,2,3))"
      ],
      "execution_count": 21,
      "outputs": [
        {
          "output_type": "stream",
          "text": [
            "5\n"
          ],
          "name": "stdout"
        }
      ]
    },
    {
      "cell_type": "markdown",
      "metadata": {
        "id": "cPmZCUFpZ0Gg"
      },
      "source": [
        "# 이차함수 지정"
      ]
    },
    {
      "cell_type": "code",
      "metadata": {
        "id": "o8uF_kKhZbp3"
      },
      "source": [
        "def func2(x,a,b,c):\n",
        "  y= a*x**2+ b*x+c\n",
        "  return y"
      ],
      "execution_count": 22,
      "outputs": []
    },
    {
      "cell_type": "code",
      "metadata": {
        "colab": {
          "base_uri": "https://localhost:8080/"
        },
        "id": "OOH9Fo1FZskW",
        "outputId": "7c121a8d-846a-4054-ad4f-42db7b8e1cb9"
      },
      "source": [
        "m = func2(1,2,3,4)\n",
        "print(m)"
      ],
      "execution_count": 23,
      "outputs": [
        {
          "output_type": "stream",
          "text": [
            "9\n"
          ],
          "name": "stdout"
        }
      ]
    },
    {
      "cell_type": "markdown",
      "metadata": {
        "id": "JCsQAPMHaCzk"
      },
      "source": [
        "# 클래스"
      ]
    },
    {
      "cell_type": "markdown",
      "metadata": {
        "id": "9o0LXiILaJfQ"
      },
      "source": [
        "함수를 만드는이유: 여러번 반복해서 사용하려고 \n",
        "\n",
        "함수(기계, 오퍼레이터)+변수(정보,재료)= 모듈 --> 클래스 \n",
        "\n",
        "클래스 = OOP(Object Oriented Program, 객체지향프로그램)\n",
        "\n",
        "비교적 최근들어(몇십년전), oop개념으로 프로그래밍언어 진화 \n",
        "\n",
        "ex. C언어 -> C+ / 파이썬은 극단적으로 클래스 개념이 잘 녹아들어 있음.\n",
        "\n"
      ]
    },
    {
      "cell_type": "code",
      "metadata": {
        "id": "IMULn0qqZvz0"
      },
      "source": [
        "class cal:\n",
        "  def __init__(self): # 함수1 지정 \n",
        "    self.result = 0   # self.result가 변수! 자기자신의 변수\n",
        "  def add(self, n):   # 함수 2지정 \n",
        "    self.result += n\n",
        "    return self.result"
      ],
      "execution_count": 24,
      "outputs": []
    },
    {
      "cell_type": "markdown",
      "metadata": {
        "id": "uMamdsKIbim1"
      },
      "source": [
        "나 자신의 변수에다가 0을 넣어라. \n",
        "\n",
        "def __init__(self):\n",
        " \n",
        "  self.result = 0 --> 이 부분 무조건 암기!!\n",
        "\n",
        "def add(self, n):\n",
        "\n",
        "  self.result += n\n",
        "\n",
        "  return self.result\n",
        "\n",
        "## 클래스 쓰는 것 보고 이해 "
      ]
    },
    {
      "cell_type": "code",
      "metadata": {
        "colab": {
          "base_uri": "https://localhost:8080/"
        },
        "id": "omMEbmkKbHvG",
        "outputId": "21ac1d8c-dbf5-45c2-aa2b-e0f00136688d"
      },
      "source": [
        "A = cal()  # 이 클래스로 A(객체)를 찍어내는 것\n",
        "# 이 부분과 동시에 self내부에 result를 0으로 생성 \n",
        "A.result"
      ],
      "execution_count": 25,
      "outputs": [
        {
          "output_type": "execute_result",
          "data": {
            "text/plain": [
              "0"
            ]
          },
          "metadata": {
            "tags": []
          },
          "execution_count": 25
        }
      ]
    },
    {
      "cell_type": "code",
      "metadata": {
        "colab": {
          "base_uri": "https://localhost:8080/"
        },
        "id": "3HriSu4UcUlX",
        "outputId": "dbcf5798-2ca0-4919-f189-1d52162be3f3"
      },
      "source": [
        "A.add(4)  # def add(self, n) --> A.add(4)/ n만 실제로 입력됨."
      ],
      "execution_count": 26,
      "outputs": [
        {
          "output_type": "execute_result",
          "data": {
            "text/plain": [
              "4"
            ]
          },
          "metadata": {
            "tags": []
          },
          "execution_count": 26
        }
      ]
    },
    {
      "cell_type": "code",
      "metadata": {
        "colab": {
          "base_uri": "https://localhost:8080/"
        },
        "id": "BDlNEX6lc0N-",
        "outputId": "22a57a5e-86ef-4fb0-d6bf-d02c775f018b"
      },
      "source": [
        "A.add(6)"
      ],
      "execution_count": 27,
      "outputs": [
        {
          "output_type": "execute_result",
          "data": {
            "text/plain": [
              "10"
            ]
          },
          "metadata": {
            "tags": []
          },
          "execution_count": 27
        }
      ]
    },
    {
      "cell_type": "code",
      "metadata": {
        "colab": {
          "base_uri": "https://localhost:8080/"
        },
        "id": "6TPT86fGc4_q",
        "outputId": "dfebab81-8d75-4def-f498-0e0ba1cf66ac"
      },
      "source": [
        "A.add(31711)"
      ],
      "execution_count": 28,
      "outputs": [
        {
          "output_type": "execute_result",
          "data": {
            "text/plain": [
              "31721"
            ]
          },
          "metadata": {
            "tags": []
          },
          "execution_count": 28
        }
      ]
    },
    {
      "cell_type": "markdown",
      "metadata": {
        "id": "uXAXJHAOc8ki"
      },
      "source": [
        "## 클래스 부분이 제일 힘듦. \n",
        "\n",
        "점프투파이썬 참고하면서 숙지, 다시 복습!"
      ]
    },
    {
      "cell_type": "code",
      "metadata": {
        "id": "9AwvG0Lzc6h3"
      },
      "source": [
        "B = cal()   # B라는 객체하나 더 만들기"
      ],
      "execution_count": 29,
      "outputs": []
    },
    {
      "cell_type": "code",
      "metadata": {
        "colab": {
          "base_uri": "https://localhost:8080/"
        },
        "id": "rncyx6SAdMcs",
        "outputId": "e2db9b6e-ceb1-451c-acec-b3b1f50ca46a"
      },
      "source": [
        "B.result"
      ],
      "execution_count": 30,
      "outputs": [
        {
          "output_type": "execute_result",
          "data": {
            "text/plain": [
              "0"
            ]
          },
          "metadata": {
            "tags": []
          },
          "execution_count": 30
        }
      ]
    },
    {
      "cell_type": "code",
      "metadata": {
        "colab": {
          "base_uri": "https://localhost:8080/"
        },
        "id": "V5_3c28jdO1O",
        "outputId": "f97d146e-7f48-48e1-ad26-1ad1e77cd515"
      },
      "source": [
        "B.add(132)"
      ],
      "execution_count": 31,
      "outputs": [
        {
          "output_type": "execute_result",
          "data": {
            "text/plain": [
              "132"
            ]
          },
          "metadata": {
            "tags": []
          },
          "execution_count": 31
        }
      ]
    },
    {
      "cell_type": "code",
      "metadata": {
        "colab": {
          "base_uri": "https://localhost:8080/"
        },
        "id": "imCL3AcDdQVN",
        "outputId": "efe9eefc-02ef-43ea-fb38-4676dc40b07f"
      },
      "source": [
        "B.add(12)"
      ],
      "execution_count": 32,
      "outputs": [
        {
          "output_type": "execute_result",
          "data": {
            "text/plain": [
              "144"
            ]
          },
          "metadata": {
            "tags": []
          },
          "execution_count": 32
        }
      ]
    },
    {
      "cell_type": "code",
      "metadata": {
        "id": "9oufClLyd8pq"
      },
      "source": [
        "class jinhyun:\n",
        "  def __init__(self):\n",
        "    self.moon = 0\n",
        "  def plus(self,n):\n",
        "    self.moon += n\n",
        "    return self.moon"
      ],
      "execution_count": 33,
      "outputs": []
    },
    {
      "cell_type": "code",
      "metadata": {
        "colab": {
          "base_uri": "https://localhost:8080/"
        },
        "id": "XNG8-Emxeelw",
        "outputId": "fdc1b6b2-be9b-4ad2-9c74-de7fc305b8ac"
      },
      "source": [
        "L = jinhyun()\n",
        "L.plus(3)"
      ],
      "execution_count": 37,
      "outputs": [
        {
          "output_type": "execute_result",
          "data": {
            "text/plain": [
              "3"
            ]
          },
          "metadata": {
            "tags": []
          },
          "execution_count": 37
        }
      ]
    },
    {
      "cell_type": "markdown",
      "metadata": {
        "id": "jvgTeNQYdi3F"
      },
      "source": [
        "# 모듈이란? = 파일(.py)\n",
        "\n",
        "클래스 정의 + 1차함수 정의\n",
        "\n",
        "클래스와 함수들을 한 파일 안에 많이 모아둔 것. (.py)\n",
        "\n",
        "50가지 클래스 100가지 함수들을 모두 파일 하나로 저장.\n",
        "\n",
        "이 파일을 \"모듈\"이라고 하는 것."
      ]
    },
    {
      "cell_type": "markdown",
      "metadata": {
        "id": "dMT92iflfhkM"
      },
      "source": [
        "# 패키지란? = 폴더들의 집합\n",
        "\n",
        "여러 모듈(파일)들을 많이 모아 둔 폴더들의 집합 \n",
        "\n",
        "파일들을 계층적으로 묶어놓은 덩어리들의 집합"
      ]
    },
    {
      "cell_type": "markdown",
      "metadata": {
        "id": "cw5X_tM0f_Qz"
      },
      "source": [
        "# 왜 얘네들이 중요해?\n",
        "\n",
        "다른 사람들이 만들어놓은 패키지를, \n",
        "\n",
        "그 안의 폴더, 파일, 함수와 클래스 어떻게 잘쓸까...\n",
        "\n",
        "\"import\"함수로 잘 쓰는 게 중요하기 때문. "
      ]
    },
    {
      "cell_type": "markdown",
      "metadata": {
        "id": "0wQ5G9vGgPYz"
      },
      "source": [
        "# <패키지 불러오는 3가지 방법>\n",
        "\n",
        "# import 함수 어떻게 쓸까?"
      ]
    },
    {
      "cell_type": "code",
      "metadata": {
        "colab": {
          "base_uri": "https://localhost:8080/"
        },
        "id": "QSrVoSdkdYHu",
        "outputId": "b6b9cea2-abae-46fe-a599-b5e6e1eda77f"
      },
      "source": [
        "import numpy as np  # 파이썬에서 제일 유명한 패키지: numpy\n",
        "n = np.random.randn(100)   # 얘네는 나중에..^^\n",
        "n  # 총 백개의 숫잔데, 정규분포(rand + normal)를 갖는 랜덤한 것."
      ],
      "execution_count": 39,
      "outputs": [
        {
          "output_type": "execute_result",
          "data": {
            "text/plain": [
              "array([ 0.44638089,  0.56509203, -0.36075434, -1.59941656, -0.12374384,\n",
              "        0.50879631,  0.8331437 , -1.77369946,  1.409388  ,  1.63826988,\n",
              "        1.34059336, -0.3179523 ,  1.0352899 ,  0.09264084,  1.88600906,\n",
              "       -2.11918144,  1.3135783 ,  1.09235524,  0.8496072 ,  1.37537917,\n",
              "       -0.20016659,  0.02456942, -0.26839898, -0.06168353,  1.61153081,\n",
              "       -0.65982351,  0.78805017,  1.87698496,  0.20860999, -0.28506475,\n",
              "        0.13008093, -2.22456055, -0.11958434, -1.07245411,  0.52683669,\n",
              "       -0.26030298,  1.64760435, -1.31427604,  1.18306133, -0.54435212,\n",
              "       -0.50943753,  0.84745967,  0.66995793, -0.80489981,  0.29161394,\n",
              "        1.73654856, -0.48466274,  1.54379909,  0.01948242,  2.16704408,\n",
              "        1.2146597 , -0.86910051, -0.35038417,  0.19897253,  1.22889739,\n",
              "       -0.84280744, -0.72851079,  1.11288081, -0.02478457, -1.36001286,\n",
              "        1.13410412, -0.80207919, -0.0528576 , -1.02769706,  0.16528322,\n",
              "        0.1529231 , -0.18913885, -0.94075051,  0.41699458, -1.03633717,\n",
              "       -0.16088402,  0.85622717,  1.58644977,  0.20251965,  1.44571925,\n",
              "       -0.62882071, -0.11951642, -0.25194511,  0.71289693, -0.84030459,\n",
              "       -0.13693919,  0.02915837, -0.68297954,  0.76715168, -0.45864797,\n",
              "       -0.27786372, -0.63046257, -1.0557242 , -0.346976  , -0.04664413,\n",
              "       -0.36961538, -0.12078249, -0.18043878, -1.50260476,  0.22913764,\n",
              "       -0.08381065, -0.53604209,  1.39018647,  0.49390064, -2.21228943])"
            ]
          },
          "metadata": {
            "tags": []
          },
          "execution_count": 39
        }
      ]
    },
    {
      "cell_type": "markdown",
      "metadata": {
        "id": "ZTzYh9Z2hfbH"
      },
      "source": [
        "## 방법1"
      ]
    },
    {
      "cell_type": "code",
      "metadata": {
        "colab": {
          "base_uri": "https://localhost:8080/",
          "height": 361
        },
        "id": "kaQS46nAgdWk",
        "outputId": "2a827875-f70d-422f-b10d-35888b556cf0"
      },
      "source": [
        "import matplotlib  # matplotlib 이라는 폴더(패키지)\n",
        "matplotlib.pyplot.hist(n)\n",
        "\n",
        "# matplotlib: 시각화해주는 패키지 \n",
        "\n",
        "\n",
        "# import matplotlib.pyplot   # pyplot이라는 모듈(.py)\n",
        "# from matplotlib import pyplot \n",
        "# from matplotlib.pyplot import hist  # 엄청많은 함수들 중 hist()라는 함수 "
      ],
      "execution_count": 40,
      "outputs": [
        {
          "output_type": "execute_result",
          "data": {
            "text/plain": [
              "(array([ 3.,  4.,  6., 14., 24., 13., 12.,  9., 11.,  4.]),\n",
              " array([-2.22456055, -1.78540009, -1.34623963, -0.90707916, -0.4679187 ,\n",
              "        -0.02875824,  0.41040223,  0.84956269,  1.28872315,  1.72788362,\n",
              "         2.16704408]),\n",
              " <a list of 10 Patch objects>)"
            ]
          },
          "metadata": {
            "tags": []
          },
          "execution_count": 40
        },
        {
          "output_type": "display_data",
          "data": {
            "image/png": "[encoded data removed]",
            "text/plain": [
              "<Figure size 432x288 with 1 Axes>"
            ]
          },
          "metadata": {
            "tags": [],
            "needs_background": "light"
          }
        }
      ]
    },
    {
      "cell_type": "markdown",
      "metadata": {
        "id": "yBXdw9gjhh_f"
      },
      "source": [
        "## 방법2"
      ]
    },
    {
      "cell_type": "code",
      "metadata": {
        "colab": {
          "base_uri": "https://localhost:8080/",
          "height": 361
        },
        "id": "q2SjwSe2hcfE",
        "outputId": "3647d16b-3b4d-4dda-c7c6-88c97e14b23d"
      },
      "source": [
        "import matplotlib.pyplot\n",
        "matplotlib.pyplot.hist(n)"
      ],
      "execution_count": 41,
      "outputs": [
        {
          "output_type": "execute_result",
          "data": {
            "text/plain": [
              "(array([ 3.,  4.,  6., 14., 24., 13., 12.,  9., 11.,  4.]),\n",
              " array([-2.22456055, -1.78540009, -1.34623963, -0.90707916, -0.4679187 ,\n",
              "        -0.02875824,  0.41040223,  0.84956269,  1.28872315,  1.72788362,\n",
              "         2.16704408]),\n",
              " <a list of 10 Patch objects>)"
            ]
          },
          "metadata": {
            "tags": []
          },
          "execution_count": 41
        },
        {
          "output_type": "display_data",
          "data": {
            "image/png": "[encoded data removed]",
            "text/plain": [
              "<Figure size 432x288 with 1 Axes>"
            ]
          },
          "metadata": {
            "tags": [],
            "needs_background": "light"
          }
        }
      ]
    },
    {
      "cell_type": "markdown",
      "metadata": {
        "id": "LskaZrTxhrZr"
      },
      "source": [
        "## 방법3"
      ]
    },
    {
      "cell_type": "code",
      "metadata": {
        "colab": {
          "base_uri": "https://localhost:8080/",
          "height": 361
        },
        "id": "nl9cI9ONhqVQ",
        "outputId": "53ee17a5-6eb4-4aec-9ad0-d9f18cf1236d"
      },
      "source": [
        "from matplotlib import pyplot\n",
        "pyplot.hist(n)"
      ],
      "execution_count": 42,
      "outputs": [
        {
          "output_type": "execute_result",
          "data": {
            "text/plain": [
              "(array([ 3.,  4.,  6., 14., 24., 13., 12.,  9., 11.,  4.]),\n",
              " array([-2.22456055, -1.78540009, -1.34623963, -0.90707916, -0.4679187 ,\n",
              "        -0.02875824,  0.41040223,  0.84956269,  1.28872315,  1.72788362,\n",
              "         2.16704408]),\n",
              " <a list of 10 Patch objects>)"
            ]
          },
          "metadata": {
            "tags": []
          },
          "execution_count": 42
        },
        {
          "output_type": "display_data",
          "data": {
            "image/png": "[encoded data removed]",
            "text/plain": [
              "<Figure size 432x288 with 1 Axes>"
            ]
          },
          "metadata": {
            "tags": [],
            "needs_background": "light"
          }
        }
      ]
    },
    {
      "cell_type": "markdown",
      "metadata": {
        "id": "IfMvNoaEiJPE"
      },
      "source": [
        "### 방법 3-2"
      ]
    },
    {
      "cell_type": "code",
      "metadata": {
        "colab": {
          "base_uri": "https://localhost:8080/",
          "height": 361
        },
        "id": "wPkWR4vHh4jY",
        "outputId": "5f6f9a39-06d2-466b-b583-580858319696"
      },
      "source": [
        "from matplotlib.pyplot import hist\n",
        "hist(n)"
      ],
      "execution_count": 44,
      "outputs": [
        {
          "output_type": "execute_result",
          "data": {
            "text/plain": [
              "(array([ 3.,  4.,  6., 14., 24., 13., 12.,  9., 11.,  4.]),\n",
              " array([-2.22456055, -1.78540009, -1.34623963, -0.90707916, -0.4679187 ,\n",
              "        -0.02875824,  0.41040223,  0.84956269,  1.28872315,  1.72788362,\n",
              "         2.16704408]),\n",
              " <a list of 10 Patch objects>)"
            ]
          },
          "metadata": {
            "tags": []
          },
          "execution_count": 44
        },
        {
          "output_type": "display_data",
          "data": {
            "image/png": "[encoded data removed]",
            "text/plain": [
              "<Figure size 432x288 with 1 Axes>"
            ]
          },
          "metadata": {
            "tags": [],
            "needs_background": "light"
          }
        }
      ]
    },
    {
      "cell_type": "markdown",
      "metadata": {
        "id": "z-JJG_R-i1tO"
      },
      "source": [
        "import, from import --> 외부패키지 쓸 때\n",
        "\n",
        "print, type --> 기본으로 제공 \n",
        "\n",
        "어지간한 패키지도 다 콜랩에 깔려있음. \n",
        "\n",
        "-> 특이한 것들만 깔면 됨. \n",
        "\n",
        "* pip install 설치: 패키지 깔기 \n",
        "\n",
        "## package or library \n",
        "\n",
        "### numpy, pandas, matplotlib, tenserflow, pytorch, nltk 등등 전부 각 목적이 다른 패키지들 --> 잘 골라서 현명하게 써야함. "
      ]
    },
    {
      "cell_type": "markdown",
      "metadata": {
        "id": "RIrSM01Ziv3I"
      },
      "source": [
        "# NumPy란 (3.24 수업)\n",
        "## 숫자적 데이터를 다루기 위한 필수 패키지 \n",
        "\n",
        "* 패키지 > 섭패키지 > 모듈 여러개 > 함수 & 클래스 \n",
        "\n",
        "import numpy: \n",
        "\n",
        "numpy.sin() --> sin()함수 쓰는법 \n",
        "\n",
        "--> 이때 numpy 하면 너무 기니까, np로 부르자!!\n",
        "\"import numpy as np\""
      ]
    },
    {
      "cell_type": "markdown",
      "metadata": {
        "id": "sne9wxhQk_zE"
      },
      "source": [
        "## 1. Creation"
      ]
    },
    {
      "cell_type": "code",
      "metadata": {
        "id": "l0EzLDd9iGdp"
      },
      "source": [
        "import numpy as np # numpy패키지를 불러오는데, 이걸 np라고 부르자 \n",
        "import matplotlib.pyplot as plt\n",
        "# matplotlib패키지 안의 pyplot.py 모듈을 불러오는데, 이걸 plt라고 적자 \n",
        "# 큰 패키지 두개를 불러 온 것."
      ],
      "execution_count": 45,
      "outputs": []
    },
    {
      "cell_type": "markdown",
      "metadata": {
        "id": "JarUMO5GlnVR"
      },
      "source": [
        "numpy 안의 여러가지 유용한 함수들\n",
        "\n",
        "ex. np.sin(), np.sqrt() 등등 \n",
        "\n",
        "그중 np.empty\n",
        "\n",
        "* 행렬이 갑자기 튀어나오는 이유:\n",
        "\n",
        "다차원적이고(3차원도 가능), 여러가지 계산을 할수있음. "
      ]
    },
    {
      "cell_type": "code",
      "metadata": {
        "colab": {
          "base_uri": "https://localhost:8080/"
        },
        "id": "uyxPEhGBlmwJ",
        "outputId": "e11f59ee-9caa-4cc4-c706-ac1b6499e349"
      },
      "source": [
        "np.empty([2,3], dtype= 'int')\n",
        "# 2 by 3의 행렬을 만들어라! \n",
        "# 2행 3열의 직사각형 모양 틀\n",
        "# np.empty([2,3])"
      ],
      "execution_count": 46,
      "outputs": [
        {
          "output_type": "execute_result",
          "data": {
            "text/plain": [
              "array([[                  0, 4617315517961601024, 4621819117588971520],\n",
              "       [4624633867356078080, 4626322717216342016, 4627730092099895296]])"
            ]
          },
          "metadata": {
            "tags": []
          },
          "execution_count": 46
        }
      ]
    },
    {
      "cell_type": "code",
      "metadata": {
        "colab": {
          "base_uri": "https://localhost:8080/"
        },
        "id": "6ryeQ7B6mCiJ",
        "outputId": "dbbc8643-d80d-48e5-e66b-3662e09880ce"
      },
      "source": [
        "np.zeros([2,3])   # 디폴트로 데이터타입이 float (float64)"
      ],
      "execution_count": 50,
      "outputs": [
        {
          "output_type": "execute_result",
          "data": {
            "text/plain": [
              "array([[0., 0., 0.],\n",
              "       [0., 0., 0.]])"
            ]
          },
          "metadata": {
            "tags": []
          },
          "execution_count": 50
        }
      ]
    },
    {
      "cell_type": "code",
      "metadata": {
        "colab": {
          "base_uri": "https://localhost:8080/"
        },
        "id": "pWxYTdtLnF3U",
        "outputId": "24d64467-0cda-4dad-851e-c17fac1b1741"
      },
      "source": [
        "np.zeros([2,3], dtype='int')"
      ],
      "execution_count": 51,
      "outputs": [
        {
          "output_type": "execute_result",
          "data": {
            "text/plain": [
              "array([[0, 0, 0],\n",
              "       [0, 0, 0]])"
            ]
          },
          "metadata": {
            "tags": []
          },
          "execution_count": 51
        }
      ]
    },
    {
      "cell_type": "code",
      "metadata": {
        "colab": {
          "base_uri": "https://localhost:8080/"
        },
        "id": "jSINUD_tmjfj",
        "outputId": "3df208a4-2421-43bd-bfee-f0cc52e4fe0e"
      },
      "source": [
        "np.arange(0,10,2, dtype= 'float64')\n",
        "# 0부터 10직전까지 2만큼의 증가율을 갖고 리스트를 만들어라. "
      ],
      "execution_count": 48,
      "outputs": [
        {
          "output_type": "execute_result",
          "data": {
            "text/plain": [
              "array([0., 2., 4., 6., 8.])"
            ]
          },
          "metadata": {
            "tags": []
          },
          "execution_count": 48
        }
      ]
    },
    {
      "cell_type": "code",
      "metadata": {
        "colab": {
          "base_uri": "https://localhost:8080/",
          "height": 307
        },
        "id": "MIuRciqSmrIO",
        "outputId": "f84c1034-c6eb-4fcf-bd3d-259953075fac"
      },
      "source": [
        "np.range(0,10,2)\n",
        "# numpy 패키지는 \"range\"함수 갖고있지 않음!!"
      ],
      "execution_count": 52,
      "outputs": [
        {
          "output_type": "error",
          "ename": "AttributeError",
          "evalue": "ignored",
          "traceback": [
            "\u001b[0;31m---------------------------------------------------------------------------\u001b[0m",
            "\u001b[0;31mAttributeError\u001b[0m                            Traceback (most recent call last)",
            "\u001b[0;32m<ipython-input-52-74f45f588a3c>\u001b[0m in \u001b[0;36m<module>\u001b[0;34m()\u001b[0m\n\u001b[0;32m----> 1\u001b[0;31m \u001b[0mnp\u001b[0m\u001b[0;34m.\u001b[0m\u001b[0mrange\u001b[0m\u001b[0;34m(\u001b[0m\u001b[0;36m0\u001b[0m\u001b[0;34m,\u001b[0m\u001b[0;36m10\u001b[0m\u001b[0;34m,\u001b[0m\u001b[0;36m2\u001b[0m\u001b[0;34m)\u001b[0m\u001b[0;34m\u001b[0m\u001b[0;34m\u001b[0m\u001b[0m\n\u001b[0m",
            "\u001b[0;32m/usr/local/lib/python3.7/dist-packages/numpy/__init__.py\u001b[0m in \u001b[0;36m__getattr__\u001b[0;34m(attr)\u001b[0m\n\u001b[1;32m    213\u001b[0m             \u001b[0;32melse\u001b[0m\u001b[0;34m:\u001b[0m\u001b[0;34m\u001b[0m\u001b[0;34m\u001b[0m\u001b[0m\n\u001b[1;32m    214\u001b[0m                 raise AttributeError(\"module {!r} has no attribute \"\n\u001b[0;32m--> 215\u001b[0;31m                                      \"{!r}\".format(__name__, attr))\n\u001b[0m\u001b[1;32m    216\u001b[0m \u001b[0;34m\u001b[0m\u001b[0m\n\u001b[1;32m    217\u001b[0m         \u001b[0;32mdef\u001b[0m \u001b[0m__dir__\u001b[0m\u001b[0;34m(\u001b[0m\u001b[0;34m)\u001b[0m\u001b[0;34m:\u001b[0m\u001b[0;34m\u001b[0m\u001b[0;34m\u001b[0m\u001b[0m\n",
            "\u001b[0;31mAttributeError\u001b[0m: module 'numpy' has no attribute 'range'"
          ]
        }
      ]
    },
    {
      "cell_type": "markdown",
      "metadata": {
        "id": "h_LpqMTNn4Ss"
      },
      "source": [
        "## np.linspace(a,b,c) 중요!!!! \n",
        "### linear space: 등간격으로 c개 만들기 "
      ]
    },
    {
      "cell_type": "code",
      "metadata": {
        "colab": {
          "base_uri": "https://localhost:8080/"
        },
        "id": "kppwmODLnZQC",
        "outputId": "40204f83-170f-4ea3-9ea7-708462150cdf"
      },
      "source": [
        "np.linspace(0,10,6, dtype = float)\n",
        "# linspace(a,b,c): a부터 b까지 총 c개로 등간격으로 만들어라.\n",
        "# b도 포함될 수 있음 "
      ],
      "execution_count": 53,
      "outputs": [
        {
          "output_type": "execute_result",
          "data": {
            "text/plain": [
              "array([ 0.,  2.,  4.,  6.,  8., 10.])"
            ]
          },
          "metadata": {
            "tags": []
          },
          "execution_count": 53
        }
      ]
    },
    {
      "cell_type": "code",
      "metadata": {
        "colab": {
          "base_uri": "https://localhost:8080/"
        },
        "id": "10TI-cCynlWQ",
        "outputId": "2970857a-85a2-4aae-fa3f-dbda001086be"
      },
      "source": [
        "np.linspace(0,10,6, dtype = 'float')"
      ],
      "execution_count": 54,
      "outputs": [
        {
          "output_type": "execute_result",
          "data": {
            "text/plain": [
              "array([ 0.,  2.,  4.,  6.,  8., 10.])"
            ]
          },
          "metadata": {
            "tags": []
          },
          "execution_count": 54
        }
      ]
    },
    {
      "cell_type": "code",
      "metadata": {
        "colab": {
          "base_uri": "https://localhost:8080/"
        },
        "id": "jyzJ65E4nqQy",
        "outputId": "6c34a866-5504-4bd5-ef0c-313482add27b"
      },
      "source": [
        "np.linspace(2,20,5)   # 디폴트값은 float"
      ],
      "execution_count": 56,
      "outputs": [
        {
          "output_type": "execute_result",
          "data": {
            "text/plain": [
              "array([ 2. ,  6.5, 11. , 15.5, 20. ])"
            ]
          },
          "metadata": {
            "tags": []
          },
          "execution_count": 56
        }
      ]
    },
    {
      "cell_type": "markdown",
      "metadata": {
        "id": "Mmcf14ZGoQSv"
      },
      "source": [
        "## Vector: 세로 혹은 가로로 길쭉한 행렬 \n",
        "\n",
        "행벡터(column vector) / 열벡터(row vector) \n",
        "\n",
        "벡터가 아닌 행렬 만드려고 할때, np.array 사용 "
      ]
    },
    {
      "cell_type": "code",
      "metadata": {
        "colab": {
          "base_uri": "https://localhost:8080/"
        },
        "id": "YBSrqJvPoGMQ",
        "outputId": "6fcaf843-956e-44e1-ce90-70e83f048619"
      },
      "source": [
        "x = np.array([[1,2,3], [4,5,6]])\n",
        "x\n",
        "# 2*3(2 by 3) 행렬"
      ],
      "execution_count": 58,
      "outputs": [
        {
          "output_type": "execute_result",
          "data": {
            "text/plain": [
              "array([[1, 2, 3],\n",
              "       [4, 5, 6]])"
            ]
          },
          "metadata": {
            "tags": []
          },
          "execution_count": 58
        }
      ]
    },
    {
      "cell_type": "code",
      "metadata": {
        "colab": {
          "base_uri": "https://localhost:8080/"
        },
        "id": "hLlkzqk8otWm",
        "outputId": "89ae18dd-e16d-4a56-d9b3-d86106ef5999"
      },
      "source": [
        "x.astype(np.float64)\n",
        "# 클래스 x안의 타입을 바꿈."
      ],
      "execution_count": 59,
      "outputs": [
        {
          "output_type": "execute_result",
          "data": {
            "text/plain": [
              "array([[1., 2., 3.],\n",
              "       [4., 5., 6.]])"
            ]
          },
          "metadata": {
            "tags": []
          },
          "execution_count": 59
        }
      ]
    },
    {
      "cell_type": "code",
      "metadata": {
        "colab": {
          "base_uri": "https://localhost:8080/"
        },
        "id": "2n3s1pXapVOD",
        "outputId": "a9e04b6e-1c1b-4bb2-932f-9c45ad94d625"
      },
      "source": [
        "np.zeros_like(x)\n",
        "# x를 0처럼 바꿈. zeros_like "
      ],
      "execution_count": 60,
      "outputs": [
        {
          "output_type": "execute_result",
          "data": {
            "text/plain": [
              "array([[0, 0, 0],\n",
              "       [0, 0, 0]])"
            ]
          },
          "metadata": {
            "tags": []
          },
          "execution_count": 60
        }
      ]
    },
    {
      "cell_type": "code",
      "metadata": {
        "colab": {
          "base_uri": "https://localhost:8080/"
        },
        "id": "wa7g011OqASp",
        "outputId": "909a2802-c807-49f6-9dbd-104274b3bedc"
      },
      "source": [
        "np.random.normal(0, 1, 100)\n",
        "# 0의 위치에, 1의 standard deviation 가지고, 100개의 숫자 만들어라."
      ],
      "execution_count": 61,
      "outputs": [
        {
          "output_type": "execute_result",
          "data": {
            "text/plain": [
              "array([ 1.76933275e+00,  1.95081797e+00,  6.45799215e-01,  3.45768805e-01,\n",
              "        1.34862551e+00, -1.01267396e-03, -1.93714127e-01, -6.62190720e-01,\n",
              "        2.91351798e-01, -6.89261064e-01, -2.67198969e+00,  7.99829376e-01,\n",
              "       -9.25457422e-01, -1.49256535e+00, -1.74415233e+00, -2.39750164e+00,\n",
              "        9.78901910e-01,  1.44372943e-01, -1.21384226e+00,  1.26018908e-02,\n",
              "       -1.52900662e+00, -6.25549918e-01,  1.04317307e+00,  4.55879857e-01,\n",
              "        5.54411287e-01,  9.10737295e-02, -1.09654866e+00,  7.79118602e-01,\n",
              "        8.32363706e-01,  3.04746430e-01, -1.15205962e+00,  1.19914720e+00,\n",
              "       -6.95720074e-01,  1.05908480e+00,  6.15649314e-01, -1.06708187e+00,\n",
              "        4.84401607e-01,  3.09593399e-02, -3.45260996e-01, -4.81134382e-01,\n",
              "        1.22738831e+00, -6.73360657e-01,  1.74804217e-01, -1.27163645e+00,\n",
              "        9.69870786e-01,  2.72396101e-01,  6.92376916e-01,  8.33347064e-01,\n",
              "       -2.72209806e+00, -1.45449284e-02, -5.76667265e-01, -1.43071068e-01,\n",
              "       -3.39585263e-01, -5.48811680e-01, -1.64992398e-03, -8.12864101e-01,\n",
              "        8.42427710e-01, -8.52655108e-01,  2.61702682e+00, -1.30244524e-01,\n",
              "       -6.42659332e-03, -3.36228482e-01, -8.09892813e-01, -4.22399895e-02,\n",
              "        7.62356489e-01, -1.53119385e-01, -3.48823948e-01,  2.17272012e-01,\n",
              "        2.42427686e-01, -2.57706550e-01,  3.00389434e-01, -9.32189394e-01,\n",
              "       -6.20774538e-01,  4.97749410e-01,  1.68490350e+00,  2.62635677e-01,\n",
              "        3.38064487e-02, -2.62039177e-01, -6.19019147e-01, -2.68682571e-01,\n",
              "       -1.04279813e+00, -2.51084930e+00, -1.45724817e-01,  1.11409317e+00,\n",
              "        3.63918168e-01,  5.40653807e-01,  6.80062845e-01, -1.71901501e+00,\n",
              "       -1.43767755e+00,  8.43986159e-01,  8.22051648e-02,  1.36661162e+00,\n",
              "       -4.31128672e-01,  2.19973293e+00,  4.10850201e-01,  1.40117783e-01,\n",
              "        6.52038767e-01, -1.10499196e+00, -1.98975934e-01, -1.70561127e+00])"
            ]
          },
          "metadata": {
            "tags": []
          },
          "execution_count": 61
        }
      ]
    },
    {
      "cell_type": "code",
      "metadata": {
        "colab": {
          "base_uri": "https://localhost:8080/",
          "height": 583
        },
        "id": "kQsLwaJ-pjQA",
        "outputId": "5081cd0d-4020-4fc4-b574-eb8031bee2a9"
      },
      "source": [
        "data = np.random.normal(0,1,100)\n",
        "# np패키지 안의 random모듈 안의 normal이라는 함수 \n",
        "# normal(a,b,c): 정규분포의 형태로 만드는 함수/ b가 크면 뾰족 \n",
        "print(data)  # 꺽쇠가 하나밖에 없는, 벡터!! \n",
        "plt.hist(data, bins = 10) # 아까 matplotlib패키지 안의 pyplot모듈 안의 hist함수\n",
        "plt.show()"
      ],
      "execution_count": 62,
      "outputs": [
        {
          "output_type": "stream",
          "text": [
            "[ 1.26499103  1.1877509  -0.05895498  0.87185538  1.83530326 -1.55457143\n",
            " -0.01305216 -0.73802336 -2.59071838  0.47572831  0.9811988  -0.89455363\n",
            " -0.00363548  0.44751713 -0.30873702 -0.76909985 -0.91416836 -0.24569285\n",
            " -0.32291725  0.53819592 -0.20893075 -0.0307266  -1.06163921 -0.04570196\n",
            "  0.24980026  0.17836437  1.62557946 -0.64437223  0.1875023  -0.22935992\n",
            " -0.11775987  1.11188291  0.42391596  0.41463273  0.59554521 -0.74097855\n",
            "  0.98813882 -0.76386957 -0.36590049 -0.58905225 -0.27623357  0.4329221\n",
            "  1.1433489   0.78355532 -0.22860049  0.66323188 -1.09827762 -0.46047458\n",
            "  0.78056957  1.16246553  0.56953164  2.02409935 -0.65584551 -0.16276738\n",
            "  0.40425597 -1.6193452  -1.65376016 -0.86945645  1.19721615  1.53974365\n",
            "  1.24530783 -0.90764231 -1.25689976 -2.15567832  2.16998815  0.36263476\n",
            " -0.39663038  0.93150075  0.95697911 -1.54933431  0.88525838  1.64083796\n",
            "  0.55437809 -0.60882551 -0.2348165  -0.9133182  -0.88452283 -0.61967592\n",
            "  2.4149417   1.16434449  0.64559142 -0.70149315  0.6082162  -1.09398155\n",
            "  2.98655518  0.19021144  1.05332978 -0.29184148  0.06197925 -0.96252553\n",
            "  0.5282697   0.15903371  0.63956711 -0.1184848   0.27601093 -0.22603635\n",
            " -0.2870527  -0.27455938  1.92472888 -0.7822479 ]\n"
          ],
          "name": "stdout"
        },
        {
          "output_type": "display_data",
          "data": {
            "image/png": "[encoded data removed]",
            "text/plain": [
              "<Figure size 432x288 with 1 Axes>"
            ]
          },
          "metadata": {
            "tags": [],
            "needs_background": "light"
          }
        }
      ]
    },
    {
      "cell_type": "code",
      "metadata": {
        "colab": {
          "base_uri": "https://localhost:8080/",
          "height": 265
        },
        "id": "Btmt_J7dqrk9",
        "outputId": "bbaab7fa-4f79-4fea-d7f1-64b19ad6e648"
      },
      "source": [
        "data = np.random.normal(0,1, 1000000)\n",
        "# c값이 커질수록, 정규분포에 가까워짐, \n",
        "# bins 값이 커질수록, 정규분포에 가까워짐.\n",
        "plt.hist(data, bins = 100)\n",
        "plt.show()"
      ],
      "execution_count": 78,
      "outputs": [
        {
          "output_type": "display_data",
          "data": {
            "image/png": "[encoded data removed]",
            "text/plain": [
              "<Figure size 432x288 with 1 Axes>"
            ]
          },
          "metadata": {
            "tags": [],
            "needs_background": "light"
          }
        }
      ]
    },
    {
      "cell_type": "markdown",
      "metadata": {
        "id": "zU3VFIdNr9nS"
      },
      "source": [
        "matplotlib: 그래프, 시각화에 다양한 함수 제공하는 패키지 "
      ]
    },
    {
      "cell_type": "code",
      "metadata": {
        "colab": {
          "base_uri": "https://localhost:8080/",
          "height": 284
        },
        "id": "gTDx6SGYrIUT",
        "outputId": "0494d6a2-c70d-42ff-af86-fed7f4d06da2"
      },
      "source": [
        "data = np.random.normal(0,1,3)\n",
        "# b는 당연히 0보다 커야함.\n",
        "# 커질수록 그래프가 더 뚱뚱해짐. \n",
        "print(data)\n",
        "plt.hist(data, bins = 100)\n",
        "plt.show()"
      ],
      "execution_count": 79,
      "outputs": [
        {
          "output_type": "stream",
          "text": [
            "[-0.98032097  0.89850847 -0.9342714 ]\n"
          ],
          "name": "stdout"
        },
        {
          "output_type": "display_data",
          "data": {
            "image/png": "[encoded data removed]",
            "text/plain": [
              "<Figure size 432x288 with 1 Axes>"
            ]
          },
          "metadata": {
            "tags": [],
            "needs_background": "light"
          }
        }
      ]
    },
    {
      "cell_type": "code",
      "metadata": {
        "colab": {
          "base_uri": "https://localhost:8080/",
          "height": 265
        },
        "id": "9nHvdUg3sefV",
        "outputId": "ad44726e-4ce3-4627-a864-10bd1509d1a1"
      },
      "source": [
        "data = np.random.normal(0,10, 1000000)\n",
        "# b값이 커질수록 x축의 단위간격이 넓어짐!\n",
        "plt.hist(data, bins = 100)\n",
        "plt.show()"
      ],
      "execution_count": 80,
      "outputs": [
        {
          "output_type": "display_data",
          "data": {
            "image/png": "[encoded data removed]",
            "text/plain": [
              "<Figure size 432x288 with 1 Axes>"
            ]
          },
          "metadata": {
            "tags": [],
            "needs_background": "light"
          }
        }
      ]
    },
    {
      "cell_type": "markdown",
      "metadata": {
        "id": "KPjDtaCesxUC"
      },
      "source": [
        "## 2. Manipulation"
      ]
    },
    {
      "cell_type": "code",
      "metadata": {
        "colab": {
          "base_uri": "https://localhost:8080/"
        },
        "id": "5ilT3ClzszND",
        "outputId": "413367d7-9672-47cd-db8a-caa0b3ac19c1"
      },
      "source": [
        "x = np.ones([2,3,4])\n",
        "x  # 2*3*4 행렬 \n",
        "# 3차원의 행렬: tensor (3차원 이상의 행렬)\n",
        "# tensor가 가장 넓은 개념: matrix와 vector 포함 "
      ],
      "execution_count": 81,
      "outputs": [
        {
          "output_type": "execute_result",
          "data": {
            "text/plain": [
              "array([[[1., 1., 1., 1.],\n",
              "        [1., 1., 1., 1.],\n",
              "        [1., 1., 1., 1.]],\n",
              "\n",
              "       [[1., 1., 1., 1.],\n",
              "        [1., 1., 1., 1.],\n",
              "        [1., 1., 1., 1.]]])"
            ]
          },
          "metadata": {
            "tags": []
          },
          "execution_count": 81
        }
      ]
    },
    {
      "cell_type": "code",
      "metadata": {
        "colab": {
          "base_uri": "https://localhost:8080/",
          "height": 325
        },
        "id": "UUihGdtdtbZQ",
        "outputId": "6bd0ebb3-b466-4a2a-9e82-867d4eb1ccd7"
      },
      "source": [
        "x = np.ones([[2,3,4]])\n",
        "x"
      ],
      "execution_count": 83,
      "outputs": [
        {
          "output_type": "error",
          "ename": "TypeError",
          "evalue": "ignored",
          "traceback": [
            "\u001b[0;31m---------------------------------------------------------------------------\u001b[0m",
            "\u001b[0;31mTypeError\u001b[0m                                 Traceback (most recent call last)",
            "\u001b[0;32m<ipython-input-83-b02c24781fb2>\u001b[0m in \u001b[0;36m<module>\u001b[0;34m()\u001b[0m\n\u001b[0;32m----> 1\u001b[0;31m \u001b[0mx\u001b[0m \u001b[0;34m=\u001b[0m \u001b[0mnp\u001b[0m\u001b[0;34m.\u001b[0m\u001b[0mones\u001b[0m\u001b[0;34m(\u001b[0m\u001b[0;34m[\u001b[0m\u001b[0;34m[\u001b[0m\u001b[0;36m2\u001b[0m\u001b[0;34m,\u001b[0m\u001b[0;36m3\u001b[0m\u001b[0;34m,\u001b[0m\u001b[0;36m4\u001b[0m\u001b[0;34m]\u001b[0m\u001b[0;34m]\u001b[0m\u001b[0;34m)\u001b[0m\u001b[0;34m\u001b[0m\u001b[0;34m\u001b[0m\u001b[0m\n\u001b[0m\u001b[1;32m      2\u001b[0m \u001b[0mx\u001b[0m\u001b[0;34m\u001b[0m\u001b[0;34m\u001b[0m\u001b[0m\n",
            "\u001b[0;32m/usr/local/lib/python3.7/dist-packages/numpy/core/numeric.py\u001b[0m in \u001b[0;36mones\u001b[0;34m(shape, dtype, order)\u001b[0m\n\u001b[1;32m    190\u001b[0m \u001b[0;34m\u001b[0m\u001b[0m\n\u001b[1;32m    191\u001b[0m     \"\"\"\n\u001b[0;32m--> 192\u001b[0;31m     \u001b[0ma\u001b[0m \u001b[0;34m=\u001b[0m \u001b[0mempty\u001b[0m\u001b[0;34m(\u001b[0m\u001b[0mshape\u001b[0m\u001b[0;34m,\u001b[0m \u001b[0mdtype\u001b[0m\u001b[0;34m,\u001b[0m \u001b[0morder\u001b[0m\u001b[0;34m)\u001b[0m\u001b[0;34m\u001b[0m\u001b[0;34m\u001b[0m\u001b[0m\n\u001b[0m\u001b[1;32m    193\u001b[0m     \u001b[0mmultiarray\u001b[0m\u001b[0;34m.\u001b[0m\u001b[0mcopyto\u001b[0m\u001b[0;34m(\u001b[0m\u001b[0ma\u001b[0m\u001b[0;34m,\u001b[0m \u001b[0;36m1\u001b[0m\u001b[0;34m,\u001b[0m \u001b[0mcasting\u001b[0m\u001b[0;34m=\u001b[0m\u001b[0;34m'unsafe'\u001b[0m\u001b[0;34m)\u001b[0m\u001b[0;34m\u001b[0m\u001b[0;34m\u001b[0m\u001b[0m\n\u001b[1;32m    194\u001b[0m     \u001b[0;32mreturn\u001b[0m \u001b[0ma\u001b[0m\u001b[0;34m\u001b[0m\u001b[0;34m\u001b[0m\u001b[0m\n",
            "\u001b[0;31mTypeError\u001b[0m: 'list' object cannot be interpreted as an integer"
          ]
        }
      ]
    },
    {
      "cell_type": "code",
      "metadata": {
        "colab": {
          "base_uri": "https://localhost:8080/"
        },
        "id": "8Y4ppTuTtf5V",
        "outputId": "3b4e2da6-8d88-4c11-c3ec-01b57d84ffec"
      },
      "source": [
        "x = np.ones([1,2])\n",
        "x"
      ],
      "execution_count": 84,
      "outputs": [
        {
          "output_type": "execute_result",
          "data": {
            "text/plain": [
              "array([[1., 1.]])"
            ]
          },
          "metadata": {
            "tags": []
          },
          "execution_count": 84
        }
      ]
    },
    {
      "cell_type": "code",
      "metadata": {
        "colab": {
          "base_uri": "https://localhost:8080/"
        },
        "id": "o0TGtOxZt6su",
        "outputId": "040079cc-4f0d-4e76-f48b-2ccfb2094a95"
      },
      "source": [
        "x = np.ones([2,3,4])\n",
        "x"
      ],
      "execution_count": 85,
      "outputs": [
        {
          "output_type": "execute_result",
          "data": {
            "text/plain": [
              "array([[[1., 1., 1., 1.],\n",
              "        [1., 1., 1., 1.],\n",
              "        [1., 1., 1., 1.]],\n",
              "\n",
              "       [[1., 1., 1., 1.],\n",
              "        [1., 1., 1., 1.],\n",
              "        [1., 1., 1., 1.]]])"
            ]
          },
          "metadata": {
            "tags": []
          },
          "execution_count": 85
        }
      ]
    },
    {
      "cell_type": "code",
      "metadata": {
        "colab": {
          "base_uri": "https://localhost:8080/"
        },
        "id": "vkDfOMiouA2L",
        "outputId": "a8c84dcb-1522-4c88-ae77-c0e2c5a7c65b"
      },
      "source": [
        "y= x.reshape(-1,3,2)\n",
        "y\n",
        "# -1 이유: (a,b,c)에서 bc는 아는데, a는 모른다 할때, -1하면 알아서 채워줌! \n",
        "# 즉, 여기서는 4와 같은 것. 4 = -1 "
      ],
      "execution_count": 86,
      "outputs": [
        {
          "output_type": "execute_result",
          "data": {
            "text/plain": [
              "array([[[1., 1.],\n",
              "        [1., 1.],\n",
              "        [1., 1.]],\n",
              "\n",
              "       [[1., 1.],\n",
              "        [1., 1.],\n",
              "        [1., 1.]],\n",
              "\n",
              "       [[1., 1.],\n",
              "        [1., 1.],\n",
              "        [1., 1.]],\n",
              "\n",
              "       [[1., 1.],\n",
              "        [1., 1.],\n",
              "        [1., 1.]]])"
            ]
          },
          "metadata": {
            "tags": []
          },
          "execution_count": 86
        }
      ]
    },
    {
      "cell_type": "code",
      "metadata": {
        "colab": {
          "base_uri": "https://localhost:8080/"
        },
        "id": "XHaem8YauEuz",
        "outputId": "bbad08be-b6d1-4729-b982-43bc93df0a1f"
      },
      "source": [
        "y = x.reshape(6,4,1)\n",
        "y\n",
        "# 대괄호 3개, tensor "
      ],
      "execution_count": 87,
      "outputs": [
        {
          "output_type": "execute_result",
          "data": {
            "text/plain": [
              "array([[[1.],\n",
              "        [1.],\n",
              "        [1.],\n",
              "        [1.]],\n",
              "\n",
              "       [[1.],\n",
              "        [1.],\n",
              "        [1.],\n",
              "        [1.]],\n",
              "\n",
              "       [[1.],\n",
              "        [1.],\n",
              "        [1.],\n",
              "        [1.]],\n",
              "\n",
              "       [[1.],\n",
              "        [1.],\n",
              "        [1.],\n",
              "        [1.]],\n",
              "\n",
              "       [[1.],\n",
              "        [1.],\n",
              "        [1.],\n",
              "        [1.]],\n",
              "\n",
              "       [[1.],\n",
              "        [1.],\n",
              "        [1.],\n",
              "        [1.]]])"
            ]
          },
          "metadata": {
            "tags": []
          },
          "execution_count": 87
        }
      ]
    },
    {
      "cell_type": "code",
      "metadata": {
        "colab": {
          "base_uri": "https://localhost:8080/"
        },
        "id": "xU_IfLOsuhUT",
        "outputId": "04d9ebb0-b7a4-4de1-9707-d8162288fade"
      },
      "source": [
        "y = x.reshape(6,4)\n",
        "y\n",
        "# 위에것과 다름! 2차원이고, 대괄호가 두개 = matrix "
      ],
      "execution_count": 88,
      "outputs": [
        {
          "output_type": "execute_result",
          "data": {
            "text/plain": [
              "array([[1., 1., 1., 1.],\n",
              "       [1., 1., 1., 1.],\n",
              "       [1., 1., 1., 1.],\n",
              "       [1., 1., 1., 1.],\n",
              "       [1., 1., 1., 1.],\n",
              "       [1., 1., 1., 1.]])"
            ]
          },
          "metadata": {
            "tags": []
          },
          "execution_count": 88
        }
      ]
    },
    {
      "cell_type": "code",
      "metadata": {
        "colab": {
          "base_uri": "https://localhost:8080/"
        },
        "id": "l4p9zXiwurlh",
        "outputId": "bb60652b-a3cb-4427-c4e5-585c774ebec3"
      },
      "source": [
        "y = x.reshape(-1,3,2)\n",
        "y"
      ],
      "execution_count": 89,
      "outputs": [
        {
          "output_type": "execute_result",
          "data": {
            "text/plain": [
              "array([[[1., 1.],\n",
              "        [1., 1.],\n",
              "        [1., 1.]],\n",
              "\n",
              "       [[1., 1.],\n",
              "        [1., 1.],\n",
              "        [1., 1.]],\n",
              "\n",
              "       [[1., 1.],\n",
              "        [1., 1.],\n",
              "        [1., 1.]],\n",
              "\n",
              "       [[1., 1.],\n",
              "        [1., 1.],\n",
              "        [1., 1.]]])"
            ]
          },
          "metadata": {
            "tags": []
          },
          "execution_count": 89
        }
      ]
    },
    {
      "cell_type": "markdown",
      "metadata": {
        "id": "ynAAtUMEvAku"
      },
      "source": [
        "## allclose & 3.NumPy I/O (input.output)\n",
        "## 안중요하니까 스킵!!"
      ]
    },
    {
      "cell_type": "markdown",
      "metadata": {
        "id": "6d5JB2l3vP94"
      },
      "source": [
        "## 4. Insepcting"
      ]
    },
    {
      "cell_type": "code",
      "metadata": {
        "colab": {
          "base_uri": "https://localhost:8080/"
        },
        "id": "ScAsI9EAvY-s",
        "outputId": "dd269fba-72b6-4aeb-fe7b-94ea94d4f0d7"
      },
      "source": [
        "arr = np.random.random(10)\n",
        "arr\n",
        "# 마이너스가 전혀 들어가있찌 않음. \n",
        "# 0에서 1사이 10개의 랜덤한 숫자들 \n",
        "# 벡터 "
      ],
      "execution_count": 91,
      "outputs": [
        {
          "output_type": "execute_result",
          "data": {
            "text/plain": [
              "array([0.99942143, 0.00928514, 0.12353379, 0.33167816, 0.30380351,\n",
              "       0.60856486, 0.88274679, 0.80269764, 0.93030235, 0.00729062])"
            ]
          },
          "metadata": {
            "tags": []
          },
          "execution_count": 91
        }
      ]
    },
    {
      "cell_type": "code",
      "metadata": {
        "colab": {
          "base_uri": "https://localhost:8080/"
        },
        "id": "m4N75zuXu9Dm",
        "outputId": "6b0e6acd-e8d9-481a-b091-2e0e8410d60b"
      },
      "source": [
        "arr= np.random.random([5,2,3])\n",
        "arr\n",
        "# 0과 1사이 랜덤한 숫자가 5*2*3 tensor 형태로 "
      ],
      "execution_count": 93,
      "outputs": [
        {
          "output_type": "execute_result",
          "data": {
            "text/plain": [
              "array([[[0.56350949, 0.22839813, 0.778284  ],\n",
              "        [0.59529208, 0.65449796, 0.02559512]],\n",
              "\n",
              "       [[0.55271684, 0.52887066, 0.44977686],\n",
              "        [0.8327969 , 0.3766719 , 0.90039162]],\n",
              "\n",
              "       [[0.03229919, 0.63216165, 0.40709057],\n",
              "        [0.57322792, 0.16505876, 0.2070006 ]],\n",
              "\n",
              "       [[0.59256238, 0.02616588, 0.39717767],\n",
              "        [0.25435982, 0.19470664, 0.79209309]],\n",
              "\n",
              "       [[0.01332338, 0.27496286, 0.41179091],\n",
              "        [0.2562278 , 0.09347391, 0.39983008]]])"
            ]
          },
          "metadata": {
            "tags": []
          },
          "execution_count": 93
        }
      ]
    },
    {
      "cell_type": "code",
      "metadata": {
        "colab": {
          "base_uri": "https://localhost:8080/"
        },
        "id": "xfl7o8savW5m",
        "outputId": "9147348f-f225-4661-c4e2-e1146149a0f7"
      },
      "source": [
        "a = 1\n",
        "print(type(a))"
      ],
      "execution_count": 94,
      "outputs": [
        {
          "output_type": "stream",
          "text": [
            "<class 'int'>\n"
          ],
          "name": "stdout"
        }
      ]
    },
    {
      "cell_type": "code",
      "metadata": {
        "colab": {
          "base_uri": "https://localhost:8080/",
          "height": 55
        },
        "id": "jn2W76COwFZW",
        "outputId": "eb570ec9-49b0-4bdf-db90-5a240ad964ef"
      },
      "source": [
        "str = 'test'\n",
        "print(type(str))\n",
        "str.upper()\n",
        "# 점 찍는 것도 str이 다 클래스였기 때문. "
      ],
      "execution_count": 97,
      "outputs": [
        {
          "output_type": "stream",
          "text": [
            "<class 'str'>\n"
          ],
          "name": "stdout"
        },
        {
          "output_type": "execute_result",
          "data": {
            "application/vnd.google.colaboratory.intrinsic+json": {
              "type": "string"
            },
            "text/plain": [
              "'TEST'"
            ]
          },
          "metadata": {
            "tags": []
          },
          "execution_count": 97
        }
      ]
    },
    {
      "cell_type": "code",
      "metadata": {
        "colab": {
          "base_uri": "https://localhost:8080/"
        },
        "id": "ioPpkaTmwKRn",
        "outputId": "3db6124e-9152-4ec3-8ad0-3b1ce08c4a7f"
      },
      "source": [
        "print(type(arr)) # 'numpy.ndarray'\n",
        "print(len(arr))\n",
        "print(arr.shape) \n",
        "print(arr.ndim)  # arr.ndim: 몇차원이냐 \n",
        "print(arr.size)  # arr.size: 안의 요소들의 개수 \n",
        "print(arr.dtype)"
      ],
      "execution_count": 100,
      "outputs": [
        {
          "output_type": "stream",
          "text": [
            "<class 'numpy.ndarray'>\n",
            "5\n",
            "(5, 2, 3)\n",
            "3\n",
            "30\n",
            "float64\n"
          ],
          "name": "stdout"
        }
      ]
    },
    {
      "cell_type": "markdown",
      "metadata": {
        "id": "LW7z1oBcxWab"
      },
      "source": [
        "## 5. Operation"
      ]
    },
    {
      "cell_type": "markdown",
      "metadata": {
        "id": "v4PZZ2MfxYhx"
      },
      "source": [
        "### 5.1 Arithmetic"
      ]
    },
    {
      "cell_type": "code",
      "metadata": {
        "colab": {
          "base_uri": "https://localhost:8080/"
        },
        "id": "yHwinL5ewwck",
        "outputId": "6b2700b6-31c0-488b-a5bb-72945ff82233"
      },
      "source": [
        "a = np.arange(1,5)\n",
        "b = np.arange(9,5,-1)\n",
        "a\n",
        "# 정말 곱하기 제대로 하는 행렬은 아니기 때문에 \n",
        "# array이긴 한데, matrix 는 아님! "
      ],
      "execution_count": 103,
      "outputs": [
        {
          "output_type": "execute_result",
          "data": {
            "text/plain": [
              "array([1, 2, 3, 4])"
            ]
          },
          "metadata": {
            "tags": []
          },
          "execution_count": 103
        }
      ]
    },
    {
      "cell_type": "code",
      "metadata": {
        "colab": {
          "base_uri": "https://localhost:8080/"
        },
        "id": "qvJAJNTjx7kE",
        "outputId": "c06cc89f-c36e-492e-e702-82ac841d6f32"
      },
      "source": [
        "b"
      ],
      "execution_count": 105,
      "outputs": [
        {
          "output_type": "execute_result",
          "data": {
            "text/plain": [
              "array([9, 8, 7, 6])"
            ]
          },
          "metadata": {
            "tags": []
          },
          "execution_count": 105
        }
      ]
    },
    {
      "cell_type": "code",
      "metadata": {
        "colab": {
          "base_uri": "https://localhost:8080/"
        },
        "id": "ncAu0BN7xtj6",
        "outputId": "556da61c-1324-4d4f-82c7-3e9c504f8ab8"
      },
      "source": [
        "print(a-b)\n",
        "print(a*b)"
      ],
      "execution_count": 104,
      "outputs": [
        {
          "output_type": "stream",
          "text": [
            "[-8 -6 -4 -2]\n",
            "[ 9 16 21 24]\n"
          ],
          "name": "stdout"
        }
      ]
    },
    {
      "cell_type": "code",
      "metadata": {
        "id": "e-pkouZ6xweS"
      },
      "source": [
        "a = np.matrix(a)\n",
        "b = np.matrix(b)\n",
        "# 진짜 행렬을 만든 것 "
      ],
      "execution_count": 106,
      "outputs": []
    },
    {
      "cell_type": "code",
      "metadata": {
        "colab": {
          "base_uri": "https://localhost:8080/"
        },
        "id": "MYjy_BDvyiHS",
        "outputId": "cbfc87cc-00e7-4572-df2d-5c646ac52b18"
      },
      "source": [
        "print(a)  # 1*4 matrix \n",
        "print(b)  # 1*4 matrix"
      ],
      "execution_count": 107,
      "outputs": [
        {
          "output_type": "stream",
          "text": [
            "[[1 2 3 4]]\n",
            "[[9 8 7 6]]\n"
          ],
          "name": "stdout"
        }
      ]
    },
    {
      "cell_type": "code",
      "metadata": {
        "colab": {
          "base_uri": "https://localhost:8080/"
        },
        "id": "pQMEfuZjykVv",
        "outputId": "61b9e728-796d-4fe3-daeb-01fcaa4d7067"
      },
      "source": [
        "a * b.T   # b.T(Transpose): 1*4를 4*1로 바꿔줌.\n",
        "# [[1 2 3 4]]와\n",
        "[[9\n",
        "  8\n",
        "  7\n",
        "  6]] 의 곱!! "
      ],
      "execution_count": 108,
      "outputs": [
        {
          "output_type": "execute_result",
          "data": {
            "text/plain": [
              "matrix([[70]])"
            ]
          },
          "metadata": {
            "tags": []
          },
          "execution_count": 108
        }
      ]
    },
    {
      "cell_type": "code",
      "metadata": {
        "colab": {
          "base_uri": "https://localhost:8080/"
        },
        "id": "zVZ7RguRzP7L",
        "outputId": "da57c634-9239-4e3f-f883-042d0f20237f"
      },
      "source": [
        "a.T * b\n",
        "# 4*4 matrix 만듦."
      ],
      "execution_count": 109,
      "outputs": [
        {
          "output_type": "execute_result",
          "data": {
            "text/plain": [
              "matrix([[ 9,  8,  7,  6],\n",
              "        [18, 16, 14, 12],\n",
              "        [27, 24, 21, 18],\n",
              "        [36, 32, 28, 24]])"
            ]
          },
          "metadata": {
            "tags": []
          },
          "execution_count": 109
        }
      ]
    },
    {
      "cell_type": "markdown",
      "metadata": {
        "id": "39OjYupOzXRB"
      },
      "source": [
        "## 5.2 Comparison"
      ]
    },
    {
      "cell_type": "code",
      "metadata": {
        "colab": {
          "base_uri": "https://localhost:8080/"
        },
        "id": "Rvv6bppGzW-z",
        "outputId": "a27a5f06-8d06-4fa8-a595-cf4e69578702"
      },
      "source": [
        "a = np.arange(1,10).reshape(3,3)\n",
        "b = np.arange(9,0,-1).reshape(3,3)\n",
        "print(a)\n",
        "print(b)"
      ],
      "execution_count": 110,
      "outputs": [
        {
          "output_type": "stream",
          "text": [
            "[[1 2 3]\n",
            " [4 5 6]\n",
            " [7 8 9]]\n",
            "[[9 8 7]\n",
            " [6 5 4]\n",
            " [3 2 1]]\n"
          ],
          "name": "stdout"
        }
      ]
    },
    {
      "cell_type": "code",
      "metadata": {
        "colab": {
          "base_uri": "https://localhost:8080/"
        },
        "id": "MLbYtilrzZam",
        "outputId": "a45941d3-146e-42e9-edd1-1ae77585902d"
      },
      "source": [
        "a == b"
      ],
      "execution_count": 111,
      "outputs": [
        {
          "output_type": "execute_result",
          "data": {
            "text/plain": [
              "array([[False, False, False],\n",
              "       [False,  True, False],\n",
              "       [False, False, False]])"
            ]
          },
          "metadata": {
            "tags": []
          },
          "execution_count": 111
        }
      ]
    },
    {
      "cell_type": "code",
      "metadata": {
        "colab": {
          "base_uri": "https://localhost:8080/"
        },
        "id": "c6X5VmgbyrHh",
        "outputId": "5b3f37cc-e4b9-4f7b-8b20-6b191c93b425"
      },
      "source": [
        "a > b"
      ],
      "execution_count": 112,
      "outputs": [
        {
          "output_type": "execute_result",
          "data": {
            "text/plain": [
              "array([[False, False, False],\n",
              "       [False, False,  True],\n",
              "       [ True,  True,  True]])"
            ]
          },
          "metadata": {
            "tags": []
          },
          "execution_count": 112
        }
      ]
    },
    {
      "cell_type": "markdown",
      "metadata": {
        "id": "tgQm7omjzz37"
      },
      "source": [
        "## 5.3 Aggregation(sum,min,max,mean,median,std)"
      ]
    },
    {
      "cell_type": "code",
      "metadata": {
        "colab": {
          "base_uri": "https://localhost:8080/"
        },
        "id": "p4XX7Zctz6Nd",
        "outputId": "6b71f624-434c-432b-a298-163964b74dfc"
      },
      "source": [
        "a.sum(), np.sum(a)"
      ],
      "execution_count": 113,
      "outputs": [
        {
          "output_type": "execute_result",
          "data": {
            "text/plain": [
              "(45, 45)"
            ]
          },
          "metadata": {
            "tags": []
          },
          "execution_count": 113
        }
      ]
    },
    {
      "cell_type": "code",
      "metadata": {
        "colab": {
          "base_uri": "https://localhost:8080/"
        },
        "id": "RKyPTrtsz-uR",
        "outputId": "062b1db6-6e52-4a84-c9b4-d3520848a11b"
      },
      "source": [
        "a.sum(axis = 0), np.sum(a, axis =0)"
      ],
      "execution_count": 114,
      "outputs": [
        {
          "output_type": "execute_result",
          "data": {
            "text/plain": [
              "(array([12, 15, 18]), array([12, 15, 18]))"
            ]
          },
          "metadata": {
            "tags": []
          },
          "execution_count": 114
        }
      ]
    },
    {
      "cell_type": "code",
      "metadata": {
        "colab": {
          "base_uri": "https://localhost:8080/"
        },
        "id": "qnbXRM7s0Jzd",
        "outputId": "ede78125-446b-44ab-9d1a-b2be4ac42365"
      },
      "source": [
        "a.sum(axis=1), np.sum(a, axis=1)"
      ],
      "execution_count": 115,
      "outputs": [
        {
          "output_type": "execute_result",
          "data": {
            "text/plain": [
              "(array([ 6, 15, 24]), array([ 6, 15, 24]))"
            ]
          },
          "metadata": {
            "tags": []
          },
          "execution_count": 115
        }
      ]
    },
    {
      "cell_type": "markdown",
      "metadata": {
        "id": "1KSHdcMszsKe"
      },
      "source": [
        "# Broadcasting"
      ]
    },
    {
      "cell_type": "code",
      "metadata": {
        "id": "P0T3Wyjazpgf"
      },
      "source": [
        "a = np.arange(1,25).reshape(4,6)"
      ],
      "execution_count": null,
      "outputs": []
    }
  ]
}