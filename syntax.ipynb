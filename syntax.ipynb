{
  "nbformat": 4,
  "nbformat_minor": 0,
  "metadata": {
    "colab": {
      "name": "syntax.ipynb",
      "provenance": [],
      "authorship_tag": "ABX9TyMEOLq23MLxYM3NVoqB3Rlt",
      "include_colab_link": true
    },
    "kernelspec": {
      "name": "python3",
      "display_name": "Python 3"
    }
  },
  "cells": [
    {
      "cell_type": "markdown",
      "metadata": {
        "id": "view-in-github",
        "colab_type": "text"
      },
      "source": [
        "<a href=\"https://colab.research.google.com/github/jhmoon19/class2021Spring/blob/main/syntax.ipynb\" target=\"_parent\"><img src=\"https://colab.research.google.com/assets/colab-badge.svg\" alt=\"Open In Colab\"/></a>"
      ]
    },
    {
      "cell_type": "markdown",
      "metadata": {
        "id": "i2t0u0l3eay9"
      },
      "source": [
        "# 제어문: For, If\r\n",
        "\r\n",
        "# 제어문(Syntax)\r\n",
        "\r\n",
        "# 1) Loop(for)\r\n",
        "                \r\n",
        "# 2) condition(if)"
      ]
    },
    {
      "cell_type": "code",
      "metadata": {
        "colab": {
          "base_uri": "https://localhost:8080/"
        },
        "id": "UprT_yvkdVp_",
        "outputId": "43f0354b-dc5c-485d-ad83-76d5ebfd812b"
      },
      "source": [
        "a = [1,2,3,4]\r\n",
        "for i in a:     # 이때 루프 몇번을 도는가? 4번 \r\n",
        "  print(i)"
      ],
      "execution_count": null,
      "outputs": [
        {
          "output_type": "stream",
          "text": [
            "1\n",
            "2\n",
            "3\n",
            "4\n"
          ],
          "name": "stdout"
        }
      ]
    },
    {
      "cell_type": "code",
      "metadata": {
        "colab": {
          "base_uri": "https://localhost:8080/"
        },
        "id": "AwDdBOgjehnn",
        "outputId": "9639be08-21d6-443f-facb-d815c556760c"
      },
      "source": [
        "for i in range(3):    # range(3): 0, 1, 2를 만들어냄.\r\n",
        "  print(i)            # range(3) = [0, 1, 2]"
      ],
      "execution_count": null,
      "outputs": [
        {
          "output_type": "stream",
          "text": [
            "0\n",
            "1\n",
            "2\n"
          ],
          "name": "stdout"
        }
      ]
    },
    {
      "cell_type": "code",
      "metadata": {
        "colab": {
          "base_uri": "https://localhost:8080/"
        },
        "id": "mtBKckTffF8t",
        "outputId": "67c344bd-a1ee-4242-b3ff-a3ff070abc76"
      },
      "source": [
        "a = [1,2,3,4]\r\n",
        "for i in range(4):  # 0,1,2,3 만들어냄\r\n",
        "  print(a[i])"
      ],
      "execution_count": null,
      "outputs": [
        {
          "output_type": "stream",
          "text": [
            "1\n",
            "2\n",
            "3\n",
            "4\n"
          ],
          "name": "stdout"
        }
      ]
    },
    {
      "cell_type": "markdown",
      "metadata": {
        "id": "3uXOV7qlk0p6"
      },
      "source": [
        "i는 차례대로 0, 1, 2, 3 값들이 대입되는 것임.\r\n",
        "\r\n",
        "-> a[0], a[1], a[2], a[3] 순서대로 값을 도출 "
      ]
    },
    {
      "cell_type": "code",
      "metadata": {
        "id": "18YVGo3-fpvC",
        "outputId": "34e9be10-80f6-4e38-b47b-2e580c55bbd6",
        "colab": {
          "base_uri": "https://localhost:8080/"
        }
      },
      "source": [
        "a = [1,2,3,4]\r\n",
        "for i in range(0, 4):  # 0,1,2,3 만들어냄  # 0부터 4이전까지 \r\n",
        "  print(a[i])"
      ],
      "execution_count": 3,
      "outputs": [
        {
          "output_type": "stream",
          "text": [
            "1\n",
            "2\n",
            "3\n",
            "4\n"
          ],
          "name": "stdout"
        }
      ]
    },
    {
      "cell_type": "code",
      "metadata": {
        "id": "bbZ3SMuEnoAG",
        "outputId": "c6f1931e-8e4a-4d12-8682-88e6f66be54e",
        "colab": {
          "base_uri": "https://localhost:8080/"
        }
      },
      "source": [
        "a = [1,2,3,4]\r\n",
        "for i in range(1, 4):  # 1,2,3 만들어냄\r\n",
        "  print(a[i])"
      ],
      "execution_count": 4,
      "outputs": [
        {
          "output_type": "stream",
          "text": [
            "2\n",
            "3\n",
            "4\n"
          ],
          "name": "stdout"
        }
      ]
    },
    {
      "cell_type": "code",
      "metadata": {
        "id": "3S65kdEwoFOo",
        "outputId": "b422872a-8156-4b57-acc8-4917020aa58c",
        "colab": {
          "base_uri": "https://localhost:8080/",
          "height": 269
        }
      },
      "source": [
        "a = [1,2,3,4]\r\n",
        "for i in range(1, 5):  # IndexError a[4]가 존재하지 않아서 \r\n",
        "  print(a[i])"
      ],
      "execution_count": 5,
      "outputs": [
        {
          "output_type": "stream",
          "text": [
            "2\n",
            "3\n",
            "4\n"
          ],
          "name": "stdout"
        },
        {
          "output_type": "error",
          "ename": "IndexError",
          "evalue": "ignored",
          "traceback": [
            "\u001b[0;31m---------------------------------------------------------------------------\u001b[0m",
            "\u001b[0;31mIndexError\u001b[0m                                Traceback (most recent call last)",
            "\u001b[0;32m<ipython-input-5-366c81f115f7>\u001b[0m in \u001b[0;36m<module>\u001b[0;34m()\u001b[0m\n\u001b[1;32m      1\u001b[0m \u001b[0ma\u001b[0m \u001b[0;34m=\u001b[0m \u001b[0;34m[\u001b[0m\u001b[0;36m1\u001b[0m\u001b[0;34m,\u001b[0m\u001b[0;36m2\u001b[0m\u001b[0;34m,\u001b[0m\u001b[0;36m3\u001b[0m\u001b[0;34m,\u001b[0m\u001b[0;36m4\u001b[0m\u001b[0;34m]\u001b[0m\u001b[0;34m\u001b[0m\u001b[0;34m\u001b[0m\u001b[0m\n\u001b[1;32m      2\u001b[0m \u001b[0;32mfor\u001b[0m \u001b[0mi\u001b[0m \u001b[0;32min\u001b[0m \u001b[0mrange\u001b[0m\u001b[0;34m(\u001b[0m\u001b[0;36m1\u001b[0m\u001b[0;34m,\u001b[0m \u001b[0;36m5\u001b[0m\u001b[0;34m)\u001b[0m\u001b[0;34m:\u001b[0m  \u001b[0;31m# 0,1,2,3 만들어냄\u001b[0m\u001b[0;34m\u001b[0m\u001b[0;34m\u001b[0m\u001b[0m\n\u001b[0;32m----> 3\u001b[0;31m   \u001b[0mprint\u001b[0m\u001b[0;34m(\u001b[0m\u001b[0ma\u001b[0m\u001b[0;34m[\u001b[0m\u001b[0mi\u001b[0m\u001b[0;34m]\u001b[0m\u001b[0;34m)\u001b[0m\u001b[0;34m\u001b[0m\u001b[0;34m\u001b[0m\u001b[0m\n\u001b[0m",
            "\u001b[0;31mIndexError\u001b[0m: list index out of range"
          ]
        }
      ]
    },
    {
      "cell_type": "code",
      "metadata": {
        "id": "AfJ5ZSk6oXWu",
        "outputId": "d1bdb95d-b1c5-45c1-ef07-6965c3045583",
        "colab": {
          "base_uri": "https://localhost:8080/"
        }
      },
      "source": [
        "a = [1,2,3,4]\r\n",
        "for i in range(1, 5, 2):  # 1부터 4까지 두칸을 띄어라 \r\n",
        "  print(a[i])"
      ],
      "execution_count": 6,
      "outputs": [
        {
          "output_type": "stream",
          "text": [
            "2\n",
            "4\n"
          ],
          "name": "stdout"
        }
      ]
    },
    {
      "cell_type": "code",
      "metadata": {
        "id": "FRD0uaDwocHN",
        "outputId": "ec04ac31-c689-4f49-b324-d41accea90ca",
        "colab": {
          "base_uri": "https://localhost:8080/"
        }
      },
      "source": [
        "a = [1,2,3,4]\r\n",
        "for i in range(0,4,2):  # 0부터 3까지 두칸을 띄어라. \r\n",
        "  print(a[i])"
      ],
      "execution_count": 7,
      "outputs": [
        {
          "output_type": "stream",
          "text": [
            "1\n",
            "3\n"
          ],
          "name": "stdout"
        }
      ]
    },
    {
      "cell_type": "code",
      "metadata": {
        "id": "-iA8KZh-opcA",
        "outputId": "2ec35755-1198-4a5a-c157-a86bcace4523",
        "colab": {
          "base_uri": "https://localhost:8080/"
        }
      },
      "source": [
        "a = [1,2,3,4,5,6,7,8,9,10]\r\n",
        "for i in range(0, 10, 1):  # range(0, 10) = range(0, 10, 1)\r\n",
        "  print(a[i])"
      ],
      "execution_count": 9,
      "outputs": [
        {
          "output_type": "stream",
          "text": [
            "1\n",
            "2\n",
            "3\n",
            "4\n",
            "5\n",
            "6\n",
            "7\n",
            "8\n",
            "9\n",
            "10\n"
          ],
          "name": "stdout"
        }
      ]
    },
    {
      "cell_type": "code",
      "metadata": {
        "id": "mgGTCVHZoznd",
        "outputId": "111a28f9-6c7a-43fd-b219-0e55aadefe8b",
        "colab": {
          "base_uri": "https://localhost:8080/"
        }
      },
      "source": [
        "a = [1,2,3,4,5,6,7,8,9,10]\r\n",
        "for i in range(0, 10, 3):  0부터 9까지 세칸띄움 \r\n",
        "  print(a[i])"
      ],
      "execution_count": 10,
      "outputs": [
        {
          "output_type": "stream",
          "text": [
            "1\n",
            "4\n",
            "7\n",
            "10\n"
          ],
          "name": "stdout"
        }
      ]
    },
    {
      "cell_type": "markdown",
      "metadata": {
        "id": "J_dJ0xxOo87X"
      },
      "source": [
        "in 리스트 \r\n",
        "\r\n",
        "in range() -> 숫자 하나, 두개, 세개 "
      ]
    },
    {
      "cell_type": "markdown",
      "metadata": {
        "id": "5eVoVCElf5AH"
      },
      "source": [
        "## 다음시간에 enumerate, format함수, 이중 for, 리스트 속의 for "
      ]
    },
    {
      "cell_type": "code",
      "metadata": {
        "id": "GvYoUQDGjTNl",
        "outputId": "d768bc81-1589-4e1e-9041-25a8a223601c",
        "colab": {
          "base_uri": "https://localhost:8080/"
        }
      },
      "source": [
        "a = [1,2,3,4]\r\n",
        "for i in range(len(a)):\r\n",
        "  print(a[i])"
      ],
      "execution_count": 1,
      "outputs": [
        {
          "output_type": "stream",
          "text": [
            "1\n",
            "2\n",
            "3\n",
            "4\n"
          ],
          "name": "stdout"
        }
      ]
    },
    {
      "cell_type": "code",
      "metadata": {
        "id": "brlbHuHpjj3f",
        "outputId": "5ec0e171-a2a0-48e0-8420-cb57956ef36d",
        "colab": {
          "base_uri": "https://localhost:8080/"
        }
      },
      "source": [
        "a = ['red', 'green', 'blue', 'purple']\r\n",
        "for i in a:\r\n",
        "  print(i)"
      ],
      "execution_count": 2,
      "outputs": [
        {
          "output_type": "stream",
          "text": [
            "red\n",
            "green\n",
            "blue\n",
            "purple\n"
          ],
          "name": "stdout"
        }
      ]
    },
    {
      "cell_type": "code",
      "metadata": {
        "id": "Asaddh_SmAv5",
        "outputId": "bf61f135-db25-4d6b-d8fa-d92af4e2cdcd",
        "colab": {
          "base_uri": "https://localhost:8080/"
        }
      },
      "source": [
        "a = 0     # assign해주는 것 \r\n",
        "if a ==0:   # 실제 equal, \"같다\"/ a가 0과 같다 / 0은 0과 같다 --> True \r\n",
        "  print(a)\r\n",
        "else:\r\n",
        "  print(a+1)"
      ],
      "execution_count": 11,
      "outputs": [
        {
          "output_type": "stream",
          "text": [
            "0\n"
          ],
          "name": "stdout"
        }
      ]
    },
    {
      "cell_type": "code",
      "metadata": {
        "id": "IJiw-74LpzuN",
        "outputId": "981561e2-d8e5-4c2f-ee81-6546d8865d7e",
        "colab": {
          "base_uri": "https://localhost:8080/"
        }
      },
      "source": [
        "a = 1\r\n",
        "if a ==0:  \r\n",
        "  print(a)\r\n",
        "else:\r\n",
        "  print(a+1)"
      ],
      "execution_count": 12,
      "outputs": [
        {
          "output_type": "stream",
          "text": [
            "2\n"
          ],
          "name": "stdout"
        }
      ]
    },
    {
      "cell_type": "code",
      "metadata": {
        "id": "ggqDcOdxqOCX"
      },
      "source": [
        "a = 1\r\n",
        "if a ==0:  \r\n",
        "  print(a)    # 아무것도 안나옴. "
      ],
      "execution_count": 13,
      "outputs": []
    },
    {
      "cell_type": "markdown",
      "metadata": {
        "id": "SWr_edu2qgnY"
      },
      "source": [
        "# 이중 For"
      ]
    },
    {
      "cell_type": "code",
      "metadata": {
        "id": "MpeA2bGUqV-j",
        "outputId": "93584ec8-d23e-4977-ab21-c5e6feea8e81",
        "colab": {
          "base_uri": "https://localhost:8080/"
        }
      },
      "source": [
        "for i in range(1,3):      # 1,2 도는 상태에서  \r\n",
        "  for j in range(3,5):    # 각각 3,4 두번 돎\r\n",
        "    print(i*j)"
      ],
      "execution_count": 14,
      "outputs": [
        {
          "output_type": "stream",
          "text": [
            "3\n",
            "4\n",
            "6\n",
            "8\n"
          ],
          "name": "stdout"
        }
      ]
    },
    {
      "cell_type": "markdown",
      "metadata": {
        "id": "fDtCtG8zr0QU"
      },
      "source": [
        "## 이중 for과 if"
      ]
    },
    {
      "cell_type": "code",
      "metadata": {
        "id": "YO5Jjhn4qpeY",
        "outputId": "dfa770fc-e8f1-43cf-e468-f52de80f475a",
        "colab": {
          "base_uri": "https://localhost:8080/"
        }
      },
      "source": [
        "for i in range(1,3):    # 1,2 도는 상태에서 \r\n",
        "  for j in range(3,5):  # 각각 3,4 루프를 도는데\r\n",
        "    if j >= 4:          # j가 4이상일때만 (총 if문 4번 실행되는 것임.) \r\n",
        "      print(i*j)        # i*j 출력 "
      ],
      "execution_count": 15,
      "outputs": [
        {
          "output_type": "stream",
          "text": [
            "4\n",
            "8\n"
          ],
          "name": "stdout"
        }
      ]
    },
    {
      "cell_type": "code",
      "metadata": {
        "id": "AjOLIZnhrr7w",
        "outputId": "079ca8b0-6c4f-4364-fb39-19fd3fe965da",
        "colab": {
          "base_uri": "https://localhost:8080/"
        }
      },
      "source": [
        "a = [1,2,3,4]\r\n",
        "b = [i for i in a if i >= 2]  # i에 루프를 도는데, 2이상일 때만, i\r\n",
        "b"
      ],
      "execution_count": 18,
      "outputs": [
        {
          "output_type": "execute_result",
          "data": {
            "text/plain": [
              "[2, 3, 4]"
            ]
          },
          "metadata": {
            "tags": []
          },
          "execution_count": 18
        }
      ]
    },
    {
      "cell_type": "code",
      "metadata": {
        "id": "2i5IJs7arxXA",
        "outputId": "0895fb93-7eeb-404a-951e-fab9aeae9c70",
        "colab": {
          "base_uri": "https://localhost:8080/"
        }
      },
      "source": [
        "a = [1,2,3,4]\r\n",
        "for i in a:\r\n",
        "  if i >= 2:\r\n",
        "    print(i)"
      ],
      "execution_count": 24,
      "outputs": [
        {
          "output_type": "stream",
          "text": [
            "2\n",
            "3\n",
            "4\n"
          ],
          "name": "stdout"
        }
      ]
    },
    {
      "cell_type": "code",
      "metadata": {
        "id": "HHYgvX3VtPE0",
        "outputId": "b102ed06-54af-4dde-99f6-ddbdd2e419bc",
        "colab": {
          "base_uri": "https://localhost:8080/"
        }
      },
      "source": [
        "a = ['red', 'green', 'blue', 'purple']\r\n",
        "b = [i for i in a if len(i) >= 4]   # 루프가 리스트 속에 들어가서 결과를 리스트로 출력하는것\r\n",
        "b"
      ],
      "execution_count": 25,
      "outputs": [
        {
          "output_type": "execute_result",
          "data": {
            "text/plain": [
              "['green', 'blue', 'purple']"
            ]
          },
          "metadata": {
            "tags": []
          },
          "execution_count": 25
        }
      ]
    },
    {
      "cell_type": "code",
      "metadata": {
        "id": "m2QI1lRstu2j",
        "outputId": "bd036cb6-27a3-4e8d-a03a-40275b25b748",
        "colab": {
          "base_uri": "https://localhost:8080/"
        }
      },
      "source": [
        "a = ['red', 'green', 'blue', 'purple']\r\n",
        "for i in a:\r\n",
        "  if len(i)>= 4:\r\n",
        "    print(i)"
      ],
      "execution_count": 26,
      "outputs": [
        {
          "output_type": "stream",
          "text": [
            "green\n",
            "blue\n",
            "purple\n"
          ],
          "name": "stdout"
        }
      ]
    },
    {
      "cell_type": "code",
      "metadata": {
        "id": "FwWjNsxnt7tc"
      },
      "source": [
        ""
      ],
      "execution_count": null,
      "outputs": []
    }
  ]
}