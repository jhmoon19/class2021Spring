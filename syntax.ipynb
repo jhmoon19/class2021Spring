{
  "nbformat": 4,
  "nbformat_minor": 0,
  "metadata": {
    "colab": {
      "name": "syntax.ipynb",
      "provenance": [],
      "authorship_tag": "ABX9TyOTLtU3m5DxC7jPsW6j9wHi",
      "include_colab_link": true
    },
    "kernelspec": {
      "name": "python3",
      "display_name": "Python 3"
    }
  },
  "cells": [
    {
      "cell_type": "markdown",
      "metadata": {
        "id": "view-in-github",
        "colab_type": "text"
      },
      "source": [
        "<a href=\"https://colab.research.google.com/github/jhmoon19/class2021Spring/blob/main/syntax.ipynb\" target=\"_parent\"><img src=\"https://colab.research.google.com/assets/colab-badge.svg\" alt=\"Open In Colab\"/></a>"
      ]
    },
    {
      "cell_type": "markdown",
      "metadata": {
        "id": "i2t0u0l3eay9"
      },
      "source": [
        "# 제어문: For, If"
      ]
    },
    {
      "cell_type": "code",
      "metadata": {
        "colab": {
          "base_uri": "https://localhost:8080/"
        },
        "id": "UprT_yvkdVp_",
        "outputId": "43f0354b-dc5c-485d-ad83-76d5ebfd812b"
      },
      "source": [
        "a = [1,2,3,4]\r\n",
        "for i in a:\r\n",
        "  print(i)"
      ],
      "execution_count": null,
      "outputs": [
        {
          "output_type": "stream",
          "text": [
            "1\n",
            "2\n",
            "3\n",
            "4\n"
          ],
          "name": "stdout"
        }
      ]
    },
    {
      "cell_type": "code",
      "metadata": {
        "colab": {
          "base_uri": "https://localhost:8080/"
        },
        "id": "AwDdBOgjehnn",
        "outputId": "9639be08-21d6-443f-facb-d815c556760c"
      },
      "source": [
        "for i in range(3):    # range(3): 0, 1, 2를 만들어냄.\r\n",
        "  print(i)"
      ],
      "execution_count": null,
      "outputs": [
        {
          "output_type": "stream",
          "text": [
            "0\n",
            "1\n",
            "2\n"
          ],
          "name": "stdout"
        }
      ]
    },
    {
      "cell_type": "code",
      "metadata": {
        "colab": {
          "base_uri": "https://localhost:8080/"
        },
        "id": "mtBKckTffF8t",
        "outputId": "67c344bd-a1ee-4242-b3ff-a3ff070abc76"
      },
      "source": [
        "a = [1,2,3,4]\r\n",
        "for i in range(4):  # 0,1,2,3 만들어냄\r\n",
        "  print(a[i])"
      ],
      "execution_count": null,
      "outputs": [
        {
          "output_type": "stream",
          "text": [
            "1\n",
            "2\n",
            "3\n",
            "4\n"
          ],
          "name": "stdout"
        }
      ]
    },
    {
      "cell_type": "markdown",
      "metadata": {
        "id": "3uXOV7qlk0p6"
      },
      "source": [
        "i는 차례대로 0, 1, 2, 3 값들이 대입되는 것임.\r\n",
        "\r\n",
        "-> a[0], a[1], a[2], a[3] 순서대로 값을 도출 "
      ]
    },
    {
      "cell_type": "code",
      "metadata": {
        "id": "18YVGo3-fpvC"
      },
      "source": [
        ""
      ],
      "execution_count": null,
      "outputs": []
    },
    {
      "cell_type": "markdown",
      "metadata": {
        "id": "5eVoVCElf5AH"
      },
      "source": [
        "## 다음시간에 enumerate, format함수, 이중 for, 리스트 속의 for "
      ]
    }
  ]
}