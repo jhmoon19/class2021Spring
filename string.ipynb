{
  "nbformat": 4,
  "nbformat_minor": 0,
  "metadata": {
    "colab": {
      "name": "string.ipynb",
      "provenance": [],
      "authorship_tag": "ABX9TyP4K69FPIlWa/j9PGUSqKzC",
      "include_colab_link": true
    },
    "kernelspec": {
      "name": "python3",
      "display_name": "Python 3"
    }
  },
  "cells": [
    {
      "cell_type": "markdown",
      "metadata": {
        "id": "view-in-github",
        "colab_type": "text"
      },
      "source": [
        "<a href=\"https://colab.research.google.com/github/jhmoon19/class2021Spring/blob/main/string.ipynb\" target=\"_parent\"><img src=\"https://colab.research.google.com/assets/colab-badge.svg\" alt=\"Open In Colab\"/></a>"
      ]
    },
    {
      "cell_type": "markdown",
      "metadata": {
        "id": "6cD3oFWrXt1X"
      },
      "source": [
        "# 문자열 자료형 "
      ]
    },
    {
      "cell_type": "code",
      "metadata": {
        "colab": {
          "base_uri": "https://localhost:8080/"
        },
        "id": "XNBb0SjEWdv4",
        "outputId": "99910322-4d98-4cf8-b59f-4dbe03932b8b"
      },
      "source": [
        "s = 'abcdef'\r\n",
        "print(s[0], s[5], s[-1], s[-6])\r\n",
        "print(s[1:3], s[1:], s[:3], s[:], s[1:-1])   # 슬라이싱\r\n",
        "# print(s[1:0])은 오류!"
      ],
      "execution_count": 1,
      "outputs": [
        {
          "output_type": "stream",
          "text": [
            "a f f a\n",
            "bc bcdef abc abcdef bcde\n"
          ],
          "name": "stdout"
        }
      ]
    },
    {
      "cell_type": "code",
      "metadata": {
        "colab": {
          "base_uri": "https://localhost:8080/"
        },
        "id": "sDv6CYHxYBsx",
        "outputId": "81c10e4d-02fc-4c62-b5b5-15b3d686dca8"
      },
      "source": [
        "n = [100, 200, 300]\r\n",
        "print(n[0], n[2], n[-1], n[-3])\r\n",
        "print(n[1:2], n[1:], n[:2], n[:]) \r\n",
        "# 리스트 안에서 슬라이싱 -> 결과도 리스트로 출력!! "
      ],
      "execution_count": null,
      "outputs": [
        {
          "output_type": "stream",
          "text": [
            "100 300 300 100\n",
            "[200] [200, 300] [100, 200] [100, 200, 300]\n"
          ],
          "name": "stdout"
        }
      ]
    },
    {
      "cell_type": "code",
      "metadata": {
        "colab": {
          "base_uri": "https://localhost:8080/"
        },
        "id": "eMd2uOlCYeVQ",
        "outputId": "fec4e030-4421-4f5f-b0d4-dd6bfca254fb"
      },
      "source": [
        "len(s)"
      ],
      "execution_count": null,
      "outputs": [
        {
          "output_type": "execute_result",
          "data": {
            "text/plain": [
              "6"
            ]
          },
          "metadata": {
            "tags": []
          },
          "execution_count": 28
        }
      ]
    },
    {
      "cell_type": "code",
      "metadata": {
        "colab": {
          "base_uri": "https://localhost:8080/",
          "height": 36
        },
        "id": "mybIiDikaIQJ",
        "outputId": "740c4efb-dc7a-4b6e-a6ed-14d5b127917f"
      },
      "source": [
        "s[1]+s[3]+s[4:]*10"
      ],
      "execution_count": null,
      "outputs": [
        {
          "output_type": "execute_result",
          "data": {
            "application/vnd.google.colaboratory.intrinsic+json": {
              "type": "string"
            },
            "text/plain": [
              "'bdefefefefefefefefefef'"
            ]
          },
          "metadata": {
            "tags": []
          },
          "execution_count": 29
        }
      ]
    },
    {
      "cell_type": "code",
      "metadata": {
        "colab": {
          "base_uri": "https://localhost:8080/",
          "height": 36
        },
        "id": "LAwS2eKEaN2O",
        "outputId": "8bb3ae42-9874-4d96-8d1c-e62740c61fd9"
      },
      "source": [
        "s.upper()\r\n",
        "s"
      ],
      "execution_count": null,
      "outputs": [
        {
          "output_type": "execute_result",
          "data": {
            "application/vnd.google.colaboratory.intrinsic+json": {
              "type": "string"
            },
            "text/plain": [
              "'abcdef'"
            ]
          },
          "metadata": {
            "tags": []
          },
          "execution_count": 31
        }
      ]
    },
    {
      "cell_type": "code",
      "metadata": {
        "colab": {
          "base_uri": "https://localhost:8080/",
          "height": 36
        },
        "id": "QkzLKVi1alMT",
        "outputId": "afa77875-07ba-41e6-a985-4187aa226dd0"
      },
      "source": [
        "s.upper()\r\n",
        "s\r\n",
        "s= s.upper()\r\n",
        "s"
      ],
      "execution_count": null,
      "outputs": [
        {
          "output_type": "execute_result",
          "data": {
            "application/vnd.google.colaboratory.intrinsic+json": {
              "type": "string"
            },
            "text/plain": [
              "'ABCDEF'"
            ]
          },
          "metadata": {
            "tags": []
          },
          "execution_count": 33
        }
      ]
    },
    {
      "cell_type": "markdown",
      "metadata": {
        "id": "6vtQA_SlidTc"
      },
      "source": [
        "그냥 s.upper()해준다고 s 자체가 바로 바뀌는 게 아님. \r\n",
        "\r\n",
        "s = s.upper() 이라고 지정해줘야 함!"
      ]
    },
    {
      "cell_type": "code",
      "metadata": {
        "colab": {
          "base_uri": "https://localhost:8080/"
        },
        "id": "aN4rfasaa-Cc",
        "outputId": "cb961b77-4436-4669-d947-468f3140adbc"
      },
      "source": [
        "s = ' this is a house built this year.\\nyes'\r\n",
        "print(s)"
      ],
      "execution_count": null,
      "outputs": [
        {
          "output_type": "stream",
          "text": [
            " this is a house built this year.\n",
            "yes\n"
          ],
          "name": "stdout"
        }
      ]
    },
    {
      "cell_type": "code",
      "metadata": {
        "colab": {
          "base_uri": "https://localhost:8080/"
        },
        "id": "X8tdA3D-bNXQ",
        "outputId": "a8fd777c-ec08-4c61-aa42-a4fdfcd82b42"
      },
      "source": [
        "result = s.find('house')  # index of first instance of string t inside s(-1 if not found)\r\n",
        "result  # house가 시작하는 위치 도출"
      ],
      "execution_count": null,
      "outputs": [
        {
          "output_type": "execute_result",
          "data": {
            "text/plain": [
              "11"
            ]
          },
          "metadata": {
            "tags": []
          },
          "execution_count": 57
        }
      ]
    },
    {
      "cell_type": "code",
      "metadata": {
        "colab": {
          "base_uri": "https://localhost:8080/"
        },
        "id": "jKds6ku7bdLd",
        "outputId": "293e85df-4669-4b61-fed2-a8b65c0d00b5"
      },
      "source": [
        "result = s.find('this')\r\n",
        "result"
      ],
      "execution_count": null,
      "outputs": [
        {
          "output_type": "execute_result",
          "data": {
            "text/plain": [
              "1"
            ]
          },
          "metadata": {
            "tags": []
          },
          "execution_count": 58
        }
      ]
    },
    {
      "cell_type": "code",
      "metadata": {
        "colab": {
          "base_uri": "https://localhost:8080/"
        },
        "id": "1eheQolbbyqM",
        "outputId": "aac856df-4a0c-4519-9d0d-155841696f7b"
      },
      "source": [
        "result = s.find('that')   # 없으면 -1\r\n",
        "result"
      ],
      "execution_count": null,
      "outputs": [
        {
          "output_type": "execute_result",
          "data": {
            "text/plain": [
              "-1"
            ]
          },
          "metadata": {
            "tags": []
          },
          "execution_count": 59
        }
      ]
    },
    {
      "cell_type": "code",
      "metadata": {
        "colab": {
          "base_uri": "https://localhost:8080/"
        },
        "id": "eXY137Ueb3Uj",
        "outputId": "5e3462ac-963e-4dce-f105-eecc2595de19"
      },
      "source": [
        "result = s.rindex('this') # like s.find(t) except it raises ValueError if not found\r\n",
        "result"
      ],
      "execution_count": null,
      "outputs": [
        {
          "output_type": "execute_result",
          "data": {
            "text/plain": [
              "23"
            ]
          },
          "metadata": {
            "tags": []
          },
          "execution_count": 60
        }
      ]
    },
    {
      "cell_type": "markdown",
      "metadata": {
        "id": "8jQLbqN9jRNi"
      },
      "source": [
        "rindex()는 오른쪽에서부터 위치를 찾음! \r\n",
        "\r\n",
        "오른쪽에서부터 첫 this의 t 위치 도출 "
      ]
    },
    {
      "cell_type": "code",
      "metadata": {
        "colab": {
          "base_uri": "https://localhost:8080/",
          "height": 36
        },
        "id": "HeK_Zxu-cFJc",
        "outputId": "bbdcdb25-2edf-4e83-ae59-c846d0551c89"
      },
      "source": [
        "s = s.strip()   # a copy of s without leading or trailing whitespace\r\n",
        "s"
      ],
      "execution_count": null,
      "outputs": [
        {
          "output_type": "execute_result",
          "data": {
            "application/vnd.google.colaboratory.intrinsic+json": {
              "type": "string"
            },
            "text/plain": [
              "'this is a house built this year.\\nyes'"
            ]
          },
          "metadata": {
            "tags": []
          },
          "execution_count": 61
        }
      ]
    },
    {
      "cell_type": "code",
      "metadata": {
        "colab": {
          "base_uri": "https://localhost:8080/"
        },
        "id": "Asa8sDBycw5X",
        "outputId": "5b195a29-dcaa-4846-8d14-d85ec7648459"
      },
      "source": [
        "tokens = s.split(' ') # split s into a list whatever a t is found (whitespace by default)\r\n",
        "tokens"
      ],
      "execution_count": null,
      "outputs": [
        {
          "output_type": "execute_result",
          "data": {
            "text/plain": [
              "['this', 'is', 'a', 'house', 'built', 'this', 'year.\\nyes']"
            ]
          },
          "metadata": {
            "tags": []
          },
          "execution_count": 62
        }
      ]
    },
    {
      "cell_type": "code",
      "metadata": {
        "colab": {
          "base_uri": "https://localhost:8080/",
          "height": 36
        },
        "id": "mQkg6zoudPr7",
        "outputId": "39c9f19b-d936-4b6a-df9b-c13103d1c2b7"
      },
      "source": [
        "s = ' '.join(tokens)  # combine the words of the text into a string using s as the glue \r\n",
        "s"
      ],
      "execution_count": null,
      "outputs": [
        {
          "output_type": "execute_result",
          "data": {
            "application/vnd.google.colaboratory.intrinsic+json": {
              "type": "string"
            },
            "text/plain": [
              "'this is a house built this year.\\nyes'"
            ]
          },
          "metadata": {
            "tags": []
          },
          "execution_count": 63
        }
      ]
    },
    {
      "cell_type": "markdown",
      "metadata": {
        "id": "PsTy_wv1kEQJ"
      },
      "source": [
        "s = ' '.join(tokens) -> 공백을 기준으로 tokens 결합(join)\r\n",
        "\r\n",
        "split된걸 join하기!"
      ]
    },
    {
      "cell_type": "code",
      "metadata": {
        "colab": {
          "base_uri": "https://localhost:8080/",
          "height": 36
        },
        "id": "ngF-2neGdST-",
        "outputId": "32a768d7-716d-46ac-ebb2-c0e21fc6a9f3"
      },
      "source": [
        "s= s.replace('this', 'that')\r\n",
        "s"
      ],
      "execution_count": null,
      "outputs": [
        {
          "output_type": "execute_result",
          "data": {
            "application/vnd.google.colaboratory.intrinsic+json": {
              "type": "string"
            },
            "text/plain": [
              "'that is a house built that year.\\nyes'"
            ]
          },
          "metadata": {
            "tags": []
          },
          "execution_count": 64
        }
      ]
    },
    {
      "cell_type": "markdown",
      "metadata": {
        "id": "ioxgyQ_MkYa7"
      },
      "source": [
        "s= s.replace('this', 'that') -> this를 찾아서 전부 that으로 바꾸기 \r\n",
        "\r\n",
        "s= s.replace('A', 'B) -> s 안의 A를 B로 바꾸기"
      ]
    }
  ]
}