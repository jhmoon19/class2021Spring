{
  "nbformat": 4,
  "nbformat_minor": 0,
  "metadata": {
    "colab": {
      "name": "5.7. 영음응 복습.ipynb",
      "provenance": [],
      "collapsed_sections": [],
      "authorship_tag": "ABX9TyNwnh5CNWVMYEorQsSY3Bge",
      "include_colab_link": true
    },
    "kernelspec": {
      "name": "python3",
      "display_name": "Python 3"
    },
    "language_info": {
      "name": "python"
    }
  },
  "cells": [
    {
      "cell_type": "markdown",
      "metadata": {
        "id": "view-in-github",
        "colab_type": "text"
      },
      "source": [
        "<a href=\"https://colab.research.google.com/github/jhmoon19/class2021Spring/blob/main/5_7_%EC%98%81%EC%9D%8C%EC%9D%91_%EB%B3%B5%EC%8A%B5.ipynb\" target=\"_parent\"><img src=\"https://colab.research.google.com/assets/colab-badge.svg\" alt=\"Open In Colab\"/></a>"
      ]
    },
    {
      "cell_type": "code",
      "metadata": {
        "id": "ERlJYItKlNEb"
      },
      "source": [
        "%matplotlib inline\n",
        "from matplotlib import pyplot as plt \n",
        "import IPython.display as ipd\n",
        "import numpy as np \n",
        "from scipy.signal import lfilter"
      ],
      "execution_count": 2,
      "outputs": []
    },
    {
      "cell_type": "markdown",
      "metadata": {
        "id": "0TrsAqOft_uL"
      },
      "source": [
        "# Phasor"
      ]
    },
    {
      "cell_type": "code",
      "metadata": {
        "id": "Ud2nq1ibuXGi"
      },
      "source": [
        "amp = 1\n",
        "sr = 10000\n",
        "dur = 0.5\n",
        "freq = 100.0"
      ],
      "execution_count": 3,
      "outputs": []
    },
    {
      "cell_type": "code",
      "metadata": {
        "id": "1KfSTpMlujXE"
      },
      "source": [
        "t = np.arange(1, sr*dur+1)/sr"
      ],
      "execution_count": 4,
      "outputs": []
    },
    {
      "cell_type": "code",
      "metadata": {
        "id": "34wP0nqqumX9"
      },
      "source": [
        "theta = t*2*np.pi * freq"
      ],
      "execution_count": 5,
      "outputs": []
    },
    {
      "cell_type": "code",
      "metadata": {
        "id": "LuM_ivThupe7"
      },
      "source": [
        "s = amp * np.sin(theta)"
      ],
      "execution_count": 6,
      "outputs": []
    },
    {
      "cell_type": "code",
      "metadata": {
        "colab": {
          "base_uri": "https://localhost:8080/",
          "height": 298
        },
        "id": "xHzdJCkrurlj",
        "outputId": "0a008cf6-b888-48f1-b72f-a5c40b0ea19c"
      },
      "source": [
        "fig = plt.figure()\n",
        "ax = fig.add_subplot(111)\n",
        "ax.plot(t[0:1000] ,s[0:1000], '.')\n",
        "ax.set_xlabel('time (s)')\n",
        "ax.set_ylabel('real')"
      ],
      "execution_count": 7,
      "outputs": [
        {
          "output_type": "execute_result",
          "data": {
            "text/plain": [
              "Text(0, 0.5, 'real')"
            ]
          },
          "metadata": {
            "tags": []
          },
          "execution_count": 7
        },
        {
          "output_type": "display_data",
          "data": {
            "image/png": "[encoded data removed]",
            "text/plain": [
              "<Figure size 432x288 with 1 Axes>"
            ]
          },
          "metadata": {
            "tags": [],
            "needs_background": "light"
          }
        }
      ]
    },
    {
      "cell_type": "code",
      "metadata": {
        "colab": {
          "base_uri": "https://localhost:8080/"
        },
        "id": "2d05b7imu6Zh",
        "outputId": "1c2bf352-0daf-4958-c5da-9f61f86919af"
      },
      "source": [
        "t = np.arange(1, sr*dur+1)/sr\n",
        "t"
      ],
      "execution_count": 8,
      "outputs": [
        {
          "output_type": "execute_result",
          "data": {
            "text/plain": [
              "array([1.000e-04, 2.000e-04, 3.000e-04, ..., 4.998e-01, 4.999e-01,\n",
              "       5.000e-01])"
            ]
          },
          "metadata": {
            "tags": []
          },
          "execution_count": 8
        }
      ]
    },
    {
      "cell_type": "code",
      "metadata": {
        "colab": {
          "base_uri": "https://localhost:8080/"
        },
        "id": "gVH5T6nHyO4w",
        "outputId": "53c4e9c4-2c8e-4c8a-d22e-c06d239f90c7"
      },
      "source": [
        "theta = t*2*np.pi * freq\n",
        "theta"
      ],
      "execution_count": 9,
      "outputs": [
        {
          "output_type": "execute_result",
          "data": {
            "text/plain": [
              "array([6.28318531e-02, 1.25663706e-01, 1.88495559e-01, ...,\n",
              "       3.14033602e+02, 3.14096434e+02, 3.14159265e+02])"
            ]
          },
          "metadata": {
            "tags": []
          },
          "execution_count": 9
        }
      ]
    },
    {
      "cell_type": "code",
      "metadata": {
        "colab": {
          "base_uri": "https://localhost:8080/",
          "height": 298
        },
        "id": "YSVttoiUzno5",
        "outputId": "d9093e2b-e391-42aa-fe9f-d56763eb4408"
      },
      "source": [
        "fig = plt.figure()\n",
        "ax = fig.add_subplot(111)\n",
        "ax.plot(t[0:2000] ,s[0:2000], '.')\n",
        "ax.set_xlabel('time (s)')\n",
        "ax.set_ylabel('real')"
      ],
      "execution_count": 11,
      "outputs": [
        {
          "output_type": "execute_result",
          "data": {
            "text/plain": [
              "Text(0, 0.5, 'real')"
            ]
          },
          "metadata": {
            "tags": []
          },
          "execution_count": 11
        },
        {
          "output_type": "display_data",
          "data": {
            "image/png": "[encoded data removed]",
            "text/plain": [
              "<Figure size 432x288 with 1 Axes>"
            ]
          },
          "metadata": {
            "tags": [],
            "needs_background": "light"
          }
        }
      ]
    },
    {
      "cell_type": "code",
      "metadata": {
        "colab": {
          "base_uri": "https://localhost:8080/",
          "height": 298
        },
        "id": "2cGSJhIK1YGb",
        "outputId": "93067498-a825-4e56-d47d-21bae5209d41"
      },
      "source": [
        "fig = plt.figure()\n",
        "ax = fig.add_subplot(111)\n",
        "ax.plot(t[0:100] ,s[0:100], '.')\n",
        "ax.set_xlabel('time (s)')\n",
        "ax.set_ylabel('real')"
      ],
      "execution_count": 12,
      "outputs": [
        {
          "output_type": "execute_result",
          "data": {
            "text/plain": [
              "Text(0, 0.5, 'real')"
            ]
          },
          "metadata": {
            "tags": []
          },
          "execution_count": 12
        },
        {
          "output_type": "display_data",
          "data": {
            "image/png": "[encoded data removed]",
            "text/plain": [
              "<Figure size 432x288 with 1 Axes>"
            ]
          },
          "metadata": {
            "tags": [],
            "needs_background": "light"
          }
        }
      ]
    },
    {
      "cell_type": "code",
      "metadata": {
        "colab": {
          "base_uri": "https://localhost:8080/",
          "height": 298
        },
        "id": "7VpQ6g9P1nWg",
        "outputId": "a6abf8b3-378d-499a-cc38-419902c90700"
      },
      "source": [
        "fig = plt.figure()\n",
        "ax = fig.add_subplot(111)\n",
        "ax.plot(t ,s, '.')\n",
        "ax.set_xlabel('time (s)')\n",
        "ax.set_ylabel('real')"
      ],
      "execution_count": 13,
      "outputs": [
        {
          "output_type": "execute_result",
          "data": {
            "text/plain": [
              "Text(0, 0.5, 'real')"
            ]
          },
          "metadata": {
            "tags": []
          },
          "execution_count": 13
        },
        {
          "output_type": "display_data",
          "data": {
            "image/png": "[encoded data removed]",
            "text/plain": [
              "<Figure size 432x288 with 1 Axes>"
            ]
          },
          "metadata": {
            "tags": [],
            "needs_background": "light"
          }
        }
      ]
    },
    {
      "cell_type": "code",
      "metadata": {
        "colab": {
          "base_uri": "https://localhost:8080/"
        },
        "id": "si4rVBVKB3iC",
        "outputId": "42fa7d73-2166-4873-9c6a-2339cd982eb2"
      },
      "source": [
        "range(3,10,3)"
      ],
      "execution_count": 14,
      "outputs": [
        {
          "output_type": "execute_result",
          "data": {
            "text/plain": [
              "range(3, 10, 3)"
            ]
          },
          "metadata": {
            "tags": []
          },
          "execution_count": 14
        }
      ]
    },
    {
      "cell_type": "code",
      "metadata": {
        "colab": {
          "base_uri": "https://localhost:8080/"
        },
        "id": "qN6jSoSbgZGz",
        "outputId": "6d95089b-007e-4e94-c0ce-5b2c0b32280a"
      },
      "source": [
        "for i in range(3,10,3):\n",
        "  print(i)"
      ],
      "execution_count": 15,
      "outputs": [
        {
          "output_type": "stream",
          "text": [
            "3\n",
            "6\n",
            "9\n"
          ],
          "name": "stdout"
        }
      ]
    },
    {
      "cell_type": "code",
      "metadata": {
        "colab": {
          "base_uri": "https://localhost:8080/"
        },
        "id": "vGZS3eQsgdNo",
        "outputId": "a7a3b89c-0d6c-4248-a257-ce6847ff6f7b"
      },
      "source": [
        "for i in range(3, 100, 30):\n",
        "  print(i)"
      ],
      "execution_count": 16,
      "outputs": [
        {
          "output_type": "stream",
          "text": [
            "3\n",
            "33\n",
            "63\n",
            "93\n"
          ],
          "name": "stdout"
        }
      ]
    },
    {
      "cell_type": "code",
      "metadata": {
        "colab": {
          "base_uri": "https://localhost:8080/"
        },
        "id": "D4mGLIKAgn2G",
        "outputId": "4a621178-8369-4ad6-d6c8-8edba3e0061b"
      },
      "source": [
        "for i in range(2,10,2):\n",
        "  print(i)"
      ],
      "execution_count": 18,
      "outputs": [
        {
          "output_type": "stream",
          "text": [
            "2\n",
            "4\n",
            "6\n",
            "8\n"
          ],
          "name": "stdout"
        }
      ]
    },
    {
      "cell_type": "code",
      "metadata": {
        "colab": {
          "base_uri": "https://localhost:8080/"
        },
        "id": "SpUDyIGfgwf7",
        "outputId": "6ad750b7-d526-4f5d-ee40-e65bbdc954f4"
      },
      "source": [
        "for i in range(300, 5001, 300):\n",
        "  print(i)"
      ],
      "execution_count": 19,
      "outputs": [
        {
          "output_type": "stream",
          "text": [
            "300\n",
            "600\n",
            "900\n",
            "1200\n",
            "1500\n",
            "1800\n",
            "2100\n",
            "2400\n",
            "2700\n",
            "3000\n",
            "3300\n",
            "3600\n",
            "3900\n",
            "4200\n",
            "4500\n",
            "4800\n"
          ],
          "name": "stdout"
        }
      ]
    },
    {
      "cell_type": "code",
      "metadata": {
        "id": "Ub1bvapBhIrg"
      },
      "source": [
        ""
      ],
      "execution_count": null,
      "outputs": []
    }
  ]
}