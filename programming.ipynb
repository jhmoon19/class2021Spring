{
  "nbformat": 4,
  "nbformat_minor": 0,
  "metadata": {
    "colab": {
      "name": "programming.ipynb",
      "provenance": [],
      "authorship_tag": "ABX9TyNF9hiR66RBdqiGxmsRQbsD",
      "include_colab_link": true
    },
    "kernelspec": {
      "name": "python3",
      "display_name": "Python 3"
    }
  },
  "cells": [
    {
      "cell_type": "markdown",
      "metadata": {
        "id": "view-in-github",
        "colab_type": "text"
      },
      "source": [
        "<a href=\"https://colab.research.google.com/github/jhmoon19/class2021Spring/blob/main/programming.ipynb\" target=\"_parent\"><img src=\"https://colab.research.google.com/assets/colab-badge.svg\" alt=\"Open In Colab\"/></a>"
      ]
    },
    {
      "cell_type": "code",
      "metadata": {
        "id": "Xa6Qy_puhjoo"
      },
      "source": [
        ""
      ],
      "execution_count": null,
      "outputs": []
    },
    {
      "cell_type": "markdown",
      "metadata": {
        "id": "9fxV10HAoyVu"
      },
      "source": [
        "##<단어+문법> --> 인간 언어 \r\n",
        "\r\n",
        "인간: 사과 = ○ (단어와 내용)\r\n",
        "컴퓨터: a = 1 (variable 변수와 내용)\r\n",
        "* \"=\" 같다는 표시가 아니고, 오른쪽 내용을 왼쪽에 assign하는것\r\n",
        "-> 내용을 변수에 할당 \r\n",
        "\r\n",
        "###- 문법(제어문)  -\r\n",
        "\"사과를 철수에게 얻었다.\"\r\n",
        "문법= 제어문 1) 반복 for 2) 조건 if\r\n",
        "1) for 100 print(1) --> 100번 동안 1을 프린트 \r\n",
        "2)\ta = 1\r\n",
        "\tif a ==1\r\n",
        "\t\tprint(3)\r\n",
        "###- 함수 -\r\n",
        "입출력관계에서 중간에 어떤 변화가 있으면 그 중간에 있는 것이 함수다. \r\n",
        "\r\n",
        "in ------f-------> out\r\n",
        "\r\n",
        "ex. y = f(x)     x는입력, y는출력\r\n",
        "\r\n",
        "ex. y = 3x + 5\r\n",
        "현재의 인공신경망, ai : 무수히 많은 일차함수로 이루어짐. \r\n",
        "\r\n",
        "컴퓨터에서의 함수 \r\n",
        "a = 1 / b = 2 / add(a, b)"
      ]
    }
  ]
}