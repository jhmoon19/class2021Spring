{
  "nbformat": 4,
  "nbformat_minor": 0,
  "metadata": {
    "colab": {
      "name": "20210426.ipynb",
      "provenance": [],
      "authorship_tag": "ABX9TyMx/RXzZT665cb0NmdMRU1B",
      "include_colab_link": true
    },
    "kernelspec": {
      "name": "python3",
      "display_name": "Python 3"
    },
    "language_info": {
      "name": "python"
    }
  },
  "cells": [
    {
      "cell_type": "markdown",
      "metadata": {
        "id": "view-in-github",
        "colab_type": "text"
      },
      "source": [
        "<a href=\"https://colab.research.google.com/github/jhmoon19/class2021Spring/blob/main/20210426.ipynb\" target=\"_parent\"><img src=\"https://colab.research.google.com/assets/colab-badge.svg\" alt=\"Open In Colab\"/></a>"
      ]
    },
    {
      "cell_type": "code",
      "metadata": {
        "id": "yvlAs39vyJ0P"
      },
      "source": [
        "%matplotlib inline\n",
        "from matplotlib import pyplot as plt \n",
        "import IPython.display as ipd\n",
        "import numpy as np\n",
        "from scipy.signal import lfilter"
      ],
      "execution_count": 1,
      "outputs": []
    },
    {
      "cell_type": "code",
      "metadata": {
        "id": "U6y8dvOxxehC"
      },
      "source": [
        "def phasor(amp, sr, dur, freq):\n",
        "  t = np.arange(1, sr*dur+1)/sr\n",
        "  theta = t*2*np.pi*freq\n",
        "  s = np.sin(theta)\n",
        "  return s, theta, t"
      ],
      "execution_count": 2,
      "outputs": []
    },
    {
      "cell_type": "code",
      "metadata": {
        "colab": {
          "base_uri": "https://localhost:8080/"
        },
        "id": "M1z7QUxnyQNy",
        "outputId": "e7ad9013-c24c-4da5-84fd-e76a68c2f86f"
      },
      "source": [
        "a = phasor(1,10000,0.5,100.0)\n",
        "a"
      ],
      "execution_count": 6,
      "outputs": [
        {
          "output_type": "execute_result",
          "data": {
            "text/plain": [
              "(array([ 6.27905195e-02,  1.25333234e-01,  1.87381315e-01, ...,\n",
              "        -1.25333234e-01, -6.27905195e-02,  1.96438672e-15]),\n",
              " array([6.28318531e-02, 1.25663706e-01, 1.88495559e-01, ...,\n",
              "        3.14033602e+02, 3.14096434e+02, 3.14159265e+02]),\n",
              " array([1.000e-04, 2.000e-04, 3.000e-04, ..., 4.998e-01, 4.999e-01,\n",
              "        5.000e-01]))"
            ]
          },
          "metadata": {
            "tags": []
          },
          "execution_count": 6
        }
      ]
    },
    {
      "cell_type": "code",
      "metadata": {
        "colab": {
          "base_uri": "https://localhost:8080/",
          "height": 298
        },
        "id": "8ltWicm3yofN",
        "outputId": "cc1b7ff1-d5f8-4372-f28e-4f5b75f102c3"
      },
      "source": [
        "amp=1;sr=10000;dur=0.5;freq=100.0;t = np.arange(1, sr*dur+1)/sr;theta = t*2*np.pi*freq;s = np.sin(theta)\n",
        "fig = plt.figure()\n",
        "ax = fig.add_subplot(111)   # subplot(234): 2*3의 창틀을 만듦.그중에서 4번째\n",
        "ax.plot(t[0:1000],s[0:1000],'.')  # x축이 시간, y축이 사인웨이브 \n",
        "# t의 샘플갯수는? 1000개 \n",
        "ax.set_xlabel('theta (radian)')\n",
        "ax.set_ylabel('signal')"
      ],
      "execution_count": 7,
      "outputs": [
        {
          "output_type": "execute_result",
          "data": {
            "text/plain": [
              "Text(0, 0.5, 'signal')"
            ]
          },
          "metadata": {
            "tags": []
          },
          "execution_count": 7
        },
        {
          "output_type": "display_data",
          "data": {
            "image/png": "[encoded data removed]",
            "text/plain": [
              "<Figure size 432x288 with 1 Axes>"
            ]
          },
          "metadata": {
            "tags": [],
            "needs_background": "light"
          }
        }
      ]
    },
    {
      "cell_type": "code",
      "metadata": {
        "colab": {
          "base_uri": "https://localhost:8080/",
          "height": 74
        },
        "id": "qGRefKaBzi0W",
        "outputId": "294bc9b2-2c6e-4f5c-8275-1c6d3af60575"
      },
      "source": [
        "ipd.Audio(s, rate=sr)"
      ],
      "execution_count": 8,
      "outputs": [
        {
          "output_type": "execute_result",
          "data": {
            "text/html": [
              "\n",
              "                <audio controls=\"controls\" >\n",
              "                    <source src=\"data:audio/wav;base64,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\" type=\"audio/wav\" />\n",
              "                    Your browser does not support the audio element.\n",
              "                </audio>\n",
              "              "
            ],
            "text/plain": [
              "<IPython.lib.display.Audio object>"
            ]
          },
          "metadata": {
            "tags": []
          },
          "execution_count": 8
        }
      ]
    },
    {
      "cell_type": "code",
      "metadata": {
        "id": "K2whFdcazleW"
      },
      "source": [
        ""
      ],
      "execution_count": null,
      "outputs": []
    }
  ]
}